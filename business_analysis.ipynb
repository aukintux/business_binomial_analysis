{
 "cells": [
  {
   "cell_type": "markdown",
   "metadata": {},
   "source": [
    "# Business Feasibility Overview"
   ]
  },
  {
   "cell_type": "markdown",
   "metadata": {},
   "source": [
    "The purpose of this notebook is to analyze the feasibility of a business based on its intrinsic probabilities of loss/gain and return on investment in the cases of loss/gain. \n",
    "\n",
    "This type of analysis refers to a very specific type of bussiness in which you have defined iterations. As far as we can think in a first approach there are 2 types of bussinessess:\n",
    "\n",
    "1. One starts with a principal P, bussiness has a defined madurity time T, and at the end of such maturity time the capital becomes O, in which, O = P + G, where G corresponds to the gain which can be positive or negative, each possible value of the range of G has a certain specific probability.\n",
    "2. One starts with a principal P, which is composed of a \"sunken capital\" S and a \"working capital\" W bussiness should in principle go on forever, however if bussiness does not adapt correctly to market conditions it will have an expiration date, which usually occurs, be it 100 years or 10 years, there is also a probability of initial kickstart success or failure Pk, this type of bussiness gives periodically a profit or loss G in periods of time T which are smaller than the expiration date, which is uncertain. The sunken part of the principal S devaluates (due to devaluation of assets) or valuates in time (due to brand awareness). With regard to the expiration date it is uncertain but one could assume a range in which it could take values with increasing probability of expiration as the time increases, asymptotically reaching 1 (this is the assumption that no bussiness lives forever, think universe imploding).\n",
    "\n",
    "The questions to solve in this Notebook refer to the first type of bussiness."
   ]
  },
  {
   "cell_type": "markdown",
   "metadata": {},
   "source": [
    "** Questions to solve: **\n",
    "\n",
    "Given the parameters of the business, namely: \n",
    "\n",
    "* The return on investment when a gain event occurs ROI_G.\n",
    "* The return on investment when a loss event occurs ROI_L.\n",
    "* The probability that a gain event occurs P_G.\n",
    "\n",
    "Where we have made simplifying assumptions given that the ROI_G, ROI_L are continuous variable P_G(ROI_G) is actually a single continuous real function. Also, we have made the simplifying assumption that the madurity time T is always the same. Which is also not absolutely true.\n",
    "\n",
    "1. Starting with a principal P, after N iterations, what is the probability to see that capital become O for each possible O that is allowed by the binomial process.\n",
    "\n",
    "2. On would also like how the capital P evolves through the Bernoulli process. However since at iteration N regardless of the specific Bernoulli process what matters is where this process falls in the Binomial distribution. Each Bernoulli process has equal  probability of ocurring as another which has the same amount of YES/NO Bernoulli trials in it. A graph of different timelines for each possible Bernoulli trial would be inadequate at best. Instead it would be interesting to see how the probability spreads out over the possible range of values of the Binomial process once the number of iterations increases. One would require a color plot. (Something similar to a Choropleth). This would be the time evolution of the projection to the x axis of the figure obtained in question 1.\n",
    "\n",
    "3. Obtain a single parameter that indicates whether a business is feasible in this sense or not. Defining feasibility as having an X percent of the mass of the curve in 1. in positive territory. After how many iterations? 5? 10? Infinite?\n",
    "4. Find out how likely it is to go bankrupt when one has a capital X. This could be at any period of time since the events are independent. Plot this probability of bankruptcy vs. the amount of capital.\n"
   ]
  },
  {
   "cell_type": "markdown",
   "metadata": {},
   "source": [
    "#### Import Modules"
   ]
  },
  {
   "cell_type": "code",
   "execution_count": 65,
   "metadata": {
    "collapsed": false
   },
   "outputs": [
    {
     "data": {
      "text/html": [
       "<script>requirejs.config({paths: { 'plotly': ['https://cdn.plot.ly/plotly-latest.min']},});if(!window.Plotly) {{require(['plotly'],function(plotly) {window.Plotly=plotly;});}}</script>"
      ],
      "text/plain": [
       "<IPython.core.display.HTML object>"
      ]
     },
     "metadata": {},
     "output_type": "display_data"
    }
   ],
   "source": [
    "# Numpy\n",
    "import numpy as np\n",
    "# Scipy\n",
    "from scipy import stats\n",
    "from scipy import linspace\n",
    "# Plotly\n",
    "from plotly.offline import download_plotlyjs, init_notebook_mode, plot, iplot\n",
    "import plotly.graph_objs as go\n",
    "init_notebook_mode(connected=True) # Offline plotting"
   ]
  },
  {
   "cell_type": "markdown",
   "metadata": {},
   "source": [
    "**==================================================================================================================**"
   ]
  },
  {
   "cell_type": "markdown",
   "metadata": {},
   "source": [
    "#### Define Common Parameters"
   ]
  },
  {
   "cell_type": "code",
   "execution_count": 66,
   "metadata": {
    "collapsed": true
   },
   "outputs": [],
   "source": [
    "# Probabilities\n",
    "P_G = 0.8\n",
    "# Return on investment rates\n",
    "ROI_G = 0.3\n",
    "ROI_L = -0.2\n",
    "# Principal (initial capital)\n",
    "P = 10"
   ]
  },
  {
   "cell_type": "markdown",
   "metadata": {},
   "source": [
    "#### Question 1. \n",
    "##### Starting with a principal P, after N iterations, what is the probability to see that capital become O for each possible O that is allowed by the binomial process."
   ]
  },
  {
   "cell_type": "markdown",
   "metadata": {},
   "source": [
    "Define the functions that will evolve the principal capital P a Binomial process."
   ]
  },
  {
   "cell_type": "code",
   "execution_count": 67,
   "metadata": {
    "collapsed": true
   },
   "outputs": [],
   "source": [
    "# Takes the principal P and performs the evolution of the capital using \n",
    "# the result x of the random binomial variable after n trials\n",
    "def evolve_with_binomial(P, x, n):\n",
    "    return P * ((1 + ROI_G) ** x) * ((1 + ROI_L) ** (n - x))"
   ]
  },
  {
   "cell_type": "markdown",
   "metadata": {},
   "source": [
    "Run the simulation using the Binomial process which is equivalent to performing a very large (~1000's) Bernoulli processes and grouping their results. Since the order in which 1's and 0's occur in the sequence does not affect the final result."
   ]
  },
  {
   "cell_type": "code",
   "execution_count": 99,
   "metadata": {
    "collapsed": false
   },
   "outputs": [
    {
     "data": {
      "text/html": [
       "<div id=\"83dce0eb-8c68-4bb5-b8ce-6e3347a801cf\" style=\"height: 525px; width: 100%;\" class=\"plotly-graph-div\"></div><script type=\"text/javascript\">require([\"plotly\"], function(Plotly) { window.PLOTLYENV=window.PLOTLYENV || {};window.PLOTLYENV.BASE_URL=\"https://plot.ly\";Plotly.newPlot(\"83dce0eb-8c68-4bb5-b8ce-6e3347a801cf\", [{\"type\": \"bar\", \"x\": [0.11529215046068483, 0.18734974449861283, 0.3044433348102459, 0.49472041906664943, 0.8039206809833055, 1.3063711065978714, 2.1228530482215406, 3.449636203360004, 5.605658830460005, 9.10919559949751, 14.802442849183452, 24.053969629923106, 39.08770064862505, 63.51751355401571, 103.21595952527554, 167.7259342285727, 272.5546431214307, 442.9012950723249, 719.7146044925279, 1169.5362323003576, 1900.4963774880812], \"name\": \"Probabilities\", \"y\": [1.048576000000001e-14, 8.388607999999975e-13, 3.187671040000001e-11, 7.650410495999974e-10, 1.3005697843199945e-08, 1.6647293239295892e-07, 1.664729323929588e-06, 1.3317834591436803e-05, 8.656592484433902e-05, 0.000461684932503141, 0.002031413703013826, 0.007386958920050259, 0.022160876760150803, 0.0545498504865252, 0.10909970097304983, 0.17455952155687976, 0.21819940194610007, 0.2053641430080944, 0.13690942867206304, 0.05764607523034236, 0.011529215046068481]}, {\"mode\": \"lines+markers\", \"line\": {\"shape\": \"spline\"}, \"type\": \"scatter\", \"name\": \"Fitting\", \"x\": [0.11529215046068483, 0.18734974449861283, 0.3044433348102459, 0.49472041906664943, 0.8039206809833055, 1.3063711065978714, 2.1228530482215406, 3.449636203360004, 5.605658830460005, 9.10919559949751, 14.802442849183452, 24.053969629923106, 39.08770064862505, 63.51751355401571, 103.21595952527554, 167.7259342285727, 272.5546431214307, 442.9012950723249, 719.7146044925279, 1169.5362323003576, 1900.4963774880812], \"y\": [1.048576000000001e-14, 8.388607999999975e-13, 3.187671040000001e-11, 7.650410495999974e-10, 1.3005697843199945e-08, 1.6647293239295892e-07, 1.664729323929588e-06, 1.3317834591436803e-05, 8.656592484433902e-05, 0.000461684932503141, 0.002031413703013826, 0.007386958920050259, 0.022160876760150803, 0.0545498504865252, 0.10909970097304983, 0.17455952155687976, 0.21819940194610007, 0.2053641430080944, 0.13690942867206304, 0.05764607523034236, 0.011529215046068481]}], {\"annotations\": [{\"text\": \"N Iterations: 20 | Probability 0.8\", \"x\": 950.2481887440406, \"showarrow\": false, \"y\": 0.21819940194610007}], \"font\": {\"size\": 12, \"color\": \"#000\", \"family\": \"Arial, sans-serif;\"}, \"title\": \"Binomial Distribution of Capital at N Iterations\", \"orientation\": 0, \"autosize\": true}, {\"showLink\": true, \"linkText\": \"Export to plot.ly\"})});</script>"
      ],
      "text/plain": [
       "<IPython.core.display.HTML object>"
      ]
     },
     "metadata": {},
     "output_type": "display_data"
    }
   ],
   "source": [
    "# Number of iterations\n",
    "years = 10\n",
    "iterations_per_year = 2\n",
    "n = iterations_per_year * (years)\n",
    "\n",
    "# Sorted array of unique values ocurring in instance of Binomial process \n",
    "x_binomial = linspace(0,n,n+1)\n",
    "\n",
    "# Arrays of data to plot\n",
    "data_dict = { 'x': [], 'y': []}\n",
    "data_dict['x'] = [evolve_with_binomial(P, x, max(x_binomial)) for x in x_binomial]\n",
    "data_dict['y'] = stats.binom.pmf(x_binomial,max(x_binomial),P_G)\n",
    "\n",
    "# Plot data variable. It contains the trace objects\n",
    "fig_data = [\n",
    "                go.Bar( \n",
    "                        x=data_dict['x'], \n",
    "                        y=data_dict['y'], \n",
    "                        name=\"Probabilities\" \n",
    "                ),\n",
    "                go.Scatter( \n",
    "                        x=data_dict['x'], \n",
    "                        y=data_dict['y'], \n",
    "                        mode='lines+markers', \n",
    "                        name=\"Fitting\",\n",
    "                        line=dict(\n",
    "                            shape='spline'\n",
    "                        )\n",
    "                )\n",
    "            ]\n",
    "\n",
    "# Set layout for figure\n",
    "layout = go.Layout(\n",
    "    title='Binomial Distribution of Capital at N Iterations',\n",
    "    font=dict(\n",
    "        family='Arial, sans-serif;',\n",
    "        size=12,\n",
    "        color='#000'\n",
    "    ),\n",
    "    orientation=0,\n",
    "    autosize=True,\n",
    "    annotations=[\n",
    "        dict(\n",
    "            x=max(data_dict['x'])/2,\n",
    "            y=max(data_dict['y']),\n",
    "            text='N Iterations: {0} | Probability {1}'.format(n, P_G),\n",
    "            showarrow=False\n",
    "        )\n",
    "    ]\n",
    ")\n",
    "\n",
    "# Plot figure\n",
    "iplot({\"data\": fig_data, \"layout\": layout})"
   ]
  },
  {
   "cell_type": "markdown",
   "metadata": {},
   "source": [
    "#### Question 2.\n",
    "\n",
    "##### Plot the time evolution of the principal P through the Binomial process. Where a more intense color means a higher probability and a less intense color means a lower probability."
   ]
  },
  {
   "cell_type": "code",
   "execution_count": 97,
   "metadata": {
    "collapsed": false
   },
   "outputs": [
    {
     "data": {
      "text/html": [
       "<div id=\"fcbb4b9d-e4de-43e3-85eb-0dc94adeef46\" style=\"height: 525px; width: 100%;\" class=\"plotly-graph-div\"></div><script type=\"text/javascript\">require([\"plotly\"], function(Plotly) { window.PLOTLYENV=window.PLOTLYENV || {};window.PLOTLYENV.BASE_URL=\"https://plot.ly\";Plotly.newPlot(\"fcbb4b9d-e4de-43e3-85eb-0dc94adeef46\", [{\"mode\": \"markers\", \"type\": \"scatter\", \"name\": \"Evolution\", \"x\": [1, 1, 2, 2, 2, 3, 3, 3, 3, 4, 4, 4, 4, 4, 5, 5, 5, 5, 5, 5, 6, 6, 6, 6, 6, 6, 6, 7, 7, 7, 7, 7, 7, 7, 7, 8, 8, 8, 8, 8, 8, 8, 8, 8, 9, 9, 9, 9, 9, 9, 9, 9, 9, 9, 10, 10, 10, 10, 10, 10, 10, 10, 10, 10, 10, 11, 11, 11, 11, 11, 11, 11, 11, 11, 11, 11, 11, 12, 12, 12, 12, 12, 12, 12, 12, 12, 12, 12, 12, 12, 13, 13, 13, 13, 13, 13, 13, 13, 13, 13, 13, 13, 13, 13, 14, 14, 14, 14, 14, 14, 14, 14, 14, 14, 14, 14, 14, 14, 14, 15, 15, 15, 15, 15, 15, 15, 15, 15, 15, 15, 15, 15, 15, 15, 15, 16, 16, 16, 16, 16, 16, 16, 16, 16, 16, 16, 16, 16, 16, 16, 16, 16, 17, 17, 17, 17, 17, 17, 17, 17, 17, 17, 17, 17, 17, 17, 17, 17, 17, 17, 18, 18, 18, 18, 18, 18, 18, 18, 18, 18, 18, 18, 18, 18, 18, 18, 18, 18, 18, 19, 19, 19, 19, 19, 19, 19, 19, 19, 19, 19, 19, 19, 19, 19, 19, 19, 19, 19, 19, 20, 20, 20, 20, 20, 20, 20, 20, 20, 20, 20, 20, 20, 20, 20, 20, 20, 20, 20, 20, 20], \"marker\": {\"size\": 16, \"cmax\": 1, \"color\": [0.19999999999999998, 0.8, 0.03999999999999999, 0.32, 0.64, 0.007999999999999997, 0.09599999999999996, 0.38399999999999995, 0.5120000000000001, 0.0015999999999999992, 0.025599999999999994, 0.15360000000000001, 0.4096000000000001, 0.4096000000000001, 0.0003200000000000001, 0.006399999999999998, 0.051199999999999975, 0.20479999999999993, 0.4095999999999999, 0.3276800000000001, 6.399999999999996e-05, 0.0015360000000000011, 0.01536, 0.08192, 0.24575999999999998, 0.3932160000000002, 0.2621440000000001, 1.2799999999999977e-05, 0.00035839999999999977, 0.004300800000000003, 0.028671999999999996, 0.11468800000000001, 0.27525120000000014, 0.3670016000000001, 0.20971520000000007, 2.5599999999999975e-06, 8.191999999999981e-05, 0.0011468799999999996, 0.009175040000000008, 0.045875200000000005, 0.14680064000000004, 0.2936012800000001, 0.3355443200000002, 0.16777216000000006, 5.119999999999998e-07, 1.8431999999999975e-05, 0.0002949119999999992, 0.0027525119999999978, 0.016515071999999992, 0.06606028799999993, 0.17616076799999994, 0.3019898879999997, 0.3019898879999997, 0.13421772800000006, 1.0240000000000004e-07, 4.096000000000007e-06, 7.372799999999991e-05, 0.0007864319999999992, 0.005505024000000001, 0.02642411520000004, 0.08808038400000004, 0.20132659200000014, 0.301989888, 0.26843545600000035, 0.10737418240000005, 2.0479999999999952e-08, 9.011199999999997e-07, 1.8022400000000016e-05, 0.00021626880000000012, 0.0017301503999999984, 0.009688842239999993, 0.038755368960000015, 0.11072962560000005, 0.22145925120000012, 0.29527900160000037, 0.2362232012800001, 0.08589934592000005, 4.095999999999993e-09, 1.966079999999993e-07, 4.3253759999999935e-06, 5.767168000000002e-05, 0.0005190451199999986, 0.0033218887679999924, 0.015502147583999962, 0.05315022028799999, 0.13287555071999974, 0.2362232012799999, 0.28346784153599947, 0.20615843020799962, 0.06871947673600004, 8.191999999999993e-10, 4.259839999999996e-08, 1.0223615999999968e-06, 1.4994636799999939e-05, 0.00014994636799999983, 0.0010796138495999957, 0.005757940531199977, 0.02303176212479993, 0.06909528637439982, 0.15354508083199983, 0.24567212933119909, 0.26800595927039983, 0.1786706395136, 0.054975581388800036, 1.638399999999994e-10, 9.175040000000035e-09, 2.3855104000000084e-07, 3.816816639999995e-06, 4.198498304000002e-05, 0.0003358798643200006, 0.0020152791859200008, 0.009212704849919998, 0.03224446697472002, 0.0859852452659202, 0.17197049053183996, 0.25013889531904043, 0.2501388953190413, 0.15393162788864065, 0.04398046511104003, 3.2767999999999906e-11, 1.9660799999999958e-09, 5.505024000000019e-08, 9.542041600000019e-07, 1.1450449919999998e-05, 0.00010076395929600027, 0.0006717597286400018, 0.003454764318720008, 0.013819057274880022, 0.042992622632960095, 0.10318229431910418, 0.18760417148928035, 0.2501388953190411, 0.23089744183296146, 0.13194139533312013, 0.035184372088832024, 6.553599999999986e-12, 4.1943039999999937e-10, 1.2582911999999965e-08, 2.3488102400000083e-07, 3.0534533120000094e-06, 2.9313151795200055e-05, 0.00021496311316480056, 0.0012283606466560013, 0.005527622909952004, 0.019653770346495993, 0.05503055697018889, 0.12006666975313965, 0.2001111162552329, 0.2462906046218253, 0.2111062325329926, 0.11258999068426251, 0.02814749767106562, 1.3107199999999983e-12, 8.912895999999983e-11, 2.8521267199999905e-09, 5.704253439999978e-08, 7.985954816000028e-07, 8.305393008640034e-06, 6.644314406912005e-05, 0.0004176426198630411, 0.002088213099315204, 0.008352852397260817, 0.026729127671234598, 0.06803777952677904, 0.13607555905355848, 0.20934701392855126, 0.23925373020405777, 0.1914029841632464, 0.09570149208162303, 0.0225179981368525, 2.6214399999999987e-13, 1.8874367999999938e-11, 6.417285119999986e-10, 1.3690208255999913e-08, 2.0535312383999878e-07, 2.299954987008005e-06, 1.9932943220735944e-05, 0.00013668303922790333, 0.000751756715753471, 0.003341140958904324, 0.01202810745205552, 0.03499085804234331, 0.08164533543213452, 0.1507298500285567, 0.21532835718365131, 0.22968358099589473, 0.17226268574692122, 0.08106479329266875, 0.018014398509482, 5.242879999999982e-14, 3.984588800000008e-12, 1.4344519679999912e-10, 3.251424460799974e-09, 5.202279137279979e-08, 6.242734964735983e-07, 5.8265526337536e-06, 4.3282962422169584e-05, 0.00025969777453301734, 0.0012696335643836445, 0.00507853425753457, 0.01662065757011312, 0.04432175352030169, 0.09546223835141901, 0.16364955145957552, 0.21819940194610027, 0.2181994019460995, 0.15402310725607057, 0.0684547143360317, 0.0144115188075856, 1.048576000000001e-14, 8.388607999999975e-13, 3.187671040000001e-11, 7.650410495999974e-10, 1.3005697843199945e-08, 1.6647293239295892e-07, 1.664729323929588e-06, 1.3317834591436803e-05, 8.656592484433902e-05, 0.000461684932503141, 0.002031413703013826, 0.007386958920050259, 0.022160876760150803, 0.0545498504865252, 0.10909970097304983, 0.17455952155687976, 0.21819940194610007, 0.2053641430080944, 0.13690942867206304, 0.05764607523034236, 0.011529215046068481], \"cmin\": 0}, \"y\": [8.0, 13.0, 6.400000000000001, 10.4, 16.900000000000002, 5.120000000000001, 8.320000000000002, 13.520000000000003, 21.97, 4.096000000000001, 6.6560000000000015, 10.816000000000004, 17.576, 28.561000000000007, 3.2768000000000006, 5.324800000000001, 8.652800000000003, 14.060800000000002, 22.848800000000008, 37.12930000000001, 2.621440000000001, 4.259840000000001, 6.922240000000002, 11.248640000000002, 18.27904000000001, 29.703440000000008, 48.26809000000001, 2.097152000000001, 3.407872000000001, 5.537792000000002, 8.998912, 14.623232000000007, 23.76275200000001, 38.614472000000006, 62.74851700000002, 1.6777216000000008, 2.726297600000001, 4.430233600000002, 7.199129600000002, 11.698585600000005, 19.01020160000001, 30.891577600000012, 50.19881360000002, 81.57307210000002, 1.3421772800000007, 2.1810380800000013, 3.5441868800000016, 5.759303680000002, 9.358868480000005, 15.208161280000006, 24.71326208000001, 40.159050880000024, 65.25845768000002, 106.04499373000003, 1.0737418240000005, 1.7448304640000007, 2.8353495040000016, 4.6074429440000015, 7.487094784000004, 12.166529024000006, 19.770609664000006, 32.127240704000016, 52.20676614400002, 84.83599498400002, 137.85849184900005, 0.8589934592000005, 1.3958643712000007, 2.268279603200001, 3.6859543552000016, 5.989675827200004, 9.733223219200006, 15.816487731200006, 25.701792563200012, 41.76541291520002, 67.86879598720003, 110.28679347920004, 179.21603940370005, 0.6871947673600004, 1.1166914969600006, 1.8146236825600013, 2.9487634841600014, 4.791740661760004, 7.7865785753600045, 12.653190184960007, 20.561434050560013, 33.41233033216001, 54.295036789760026, 88.22943478336005, 143.37283152296004, 232.9808512248101, 0.5497558138880003, 0.8933531975680005, 1.451698946048001, 2.359010787328001, 3.8333925294080027, 6.229262860288005, 10.122552147968005, 16.449147240448013, 26.72986426572801, 43.436029431808024, 70.58354782668805, 114.69826521836805, 186.3846809798481, 302.87510659225313, 0.43980465111040035, 0.7146825580544005, 1.1613591568384007, 1.887208629862401, 3.0667140235264023, 4.983410288230403, 8.098041718374406, 13.15931779235841, 21.383891412582415, 34.74882354544642, 56.46683826135043, 91.75861217469445, 149.1077447838785, 242.30008527380252, 393.7376385699291, 0.3518437208883203, 0.5717460464435205, 0.9290873254707207, 1.5097669038899209, 2.453371218821122, 3.986728230584323, 6.478433374699524, 10.52745423388673, 17.10711313006593, 27.799058836357137, 45.17347060908035, 73.40688973975556, 119.2861958271028, 193.84006821904205, 314.9901108559433, 511.8589301409078, 0.28147497671065624, 0.4573968371548164, 0.7432698603765767, 1.2078135231119367, 1.9626969750568977, 3.1893825844674586, 5.18274669975962, 8.421963387109383, 13.685690504052745, 22.23924706908571, 36.13877648726428, 58.72551179180445, 95.42895666168224, 155.07205457523364, 251.9920886847547, 409.48714411272624, 665.4166091831802, 0.22517998136852502, 0.3659174697238531, 0.5946158883012614, 0.9662508184895495, 1.5701575800455183, 2.5515060675739667, 4.1461973598076955, 6.737570709687507, 10.948552403242196, 17.79139765526857, 28.911021189811425, 46.98040943344356, 76.3431653293458, 124.05764366018691, 201.59367094780376, 327.58971529018106, 532.3332873465441, 865.0415919381344, 0.18014398509482002, 0.29273397577908256, 0.4756927106410091, 0.7730006547916397, 1.2561260640364147, 2.0412048540591736, 3.3169578878461565, 5.390056567750006, 8.758841922593758, 14.233118124214856, 23.128816951849142, 37.58432754675485, 61.07453226347664, 99.24611492814954, 161.274936758243, 262.07177223214484, 425.8666298772354, 692.0332735505076, 1124.5540695195746, 0.14411518807585602, 0.23418718062326604, 0.3805541685128073, 0.6184005238333117, 1.004900851229132, 1.6329638832473392, 2.6535663102769256, 4.3120452542000045, 7.007073538075007, 11.386494499371885, 18.503053561479312, 30.067462037403885, 48.85962581078131, 79.39689194251963, 129.0199494065944, 209.65741778571586, 340.69330390178834, 553.6266188404061, 899.6432556156597, 1461.920290375447, 0.11529215046068483, 0.18734974449861283, 0.3044433348102459, 0.49472041906664943, 0.8039206809833055, 1.3063711065978714, 2.1228530482215406, 3.449636203360004, 5.605658830460005, 9.10919559949751, 14.802442849183452, 24.053969629923106, 39.08770064862505, 63.51751355401571, 103.21595952527554, 167.7259342285727, 272.5546431214307, 442.9012950723249, 719.7146044925279, 1169.5362323003576, 1900.4963774880812]}, {\"mode\": \"lines+markers\", \"line\": {\"shape\": \"spline\"}, \"type\": \"scatter\", \"name\": \"Mean\", \"x\": [1, 2, 3, 4, 5, 6, 7, 8, 9, 10, 11, 12, 13, 14, 15, 16, 17, 18, 19, 20], \"y\": [10.5, 11.233333333333334, 12.232500000000002, 13.541000000000002, 15.215550000000002, 17.328961428571432, 19.973837625000005, 23.26729254444445, 27.35695000500001, 32.42855380809092, 38.715609409575016, 46.51159242744079, 56.18540484554553, 68.20094485600261, 83.1418917758087, 101.74310728903126, 124.93043617049777, 153.87117633551279, 190.03810853376203, 235.29076733467974]}, {\"mode\": \"lines+markers\", \"line\": {\"shape\": \"spline\"}, \"type\": \"scatter\", \"name\": \"Median\", \"x\": [1, 2, 3, 4, 5, 6, 7, 8, 9, 10, 11, 12, 13, 14, 15, 16, 17, 18, 19, 20], \"y\": [10.5, 10.4, 10.920000000000002, 10.816000000000004, 11.356800000000003, 11.248640000000002, 11.811072000000003, 11.698585600000005, 12.283514880000006, 12.166529024000006, 12.774855475200006, 12.653190184960007, 13.285849694208009, 13.15931779235841, 13.81728368197633, 13.685690504052745, 14.369975029255384, 14.233118124214856, 14.944774030425599, 14.802442849183452]}], {\"annotations\": [{\"text\": \"Maximum Iterations: 20 | Probability 0.8\", \"x\": 10.0, \"showarrow\": false, \"y\": 1900.4963774880812}], \"font\": {\"size\": 12, \"color\": \"#000\", \"family\": \"Arial, sans-serif;\"}, \"title\": \"Evolution of Capital Through Binomial Process\", \"orientation\": 0, \"autosize\": true}, {\"showLink\": true, \"linkText\": \"Export to plot.ly\"})});</script>"
      ],
      "text/plain": [
       "<IPython.core.display.HTML object>"
      ]
     },
     "metadata": {},
     "output_type": "display_data"
    }
   ],
   "source": [
    "# Number of iterations\n",
    "years = 10\n",
    "iterations_per_year = 2\n",
    "n = iterations_per_year * (years)\n",
    "\n",
    "# Arrays of data to plot\n",
    "data_dict = { 'values': [], 'probs': np.array([]), 'iterations': [], 'mean': [], 'median': [], 'uniq_iterations': []}\n",
    "\n",
    "\n",
    "# For each iteration less than the maximun number of iterations\n",
    "i = 1\n",
    "while i <= n:\n",
    "    x_i = linspace(0,i,i+1) # Possible values of success event in \"i\" trials\n",
    "    values = [evolve_with_binomial(P, x, max(x_i)) for x in x_i]\n",
    "    data_dict['values'] = data_dict['values'] + values\n",
    "    data_dict['mean'].append(np.mean(values))\n",
    "    data_dict['median'].append(np.median(values))\n",
    "    data_dict['uniq_iterations'].append(i)\n",
    "    data_dict['probs'] = np.concatenate((data_dict['probs'], stats.binom.pmf(x_i,max(x_i),P_G)), axis=0)\n",
    "    data_dict['iterations'] = data_dict['iterations'] + [i]*len(x_i)\n",
    "    i += 1\n",
    "\n",
    "# Plot data variable. It contains the trace objects\n",
    "fig_data = [\n",
    "                go.Scatter( \n",
    "                        x=data_dict['iterations'], \n",
    "                        y=data_dict['values'], \n",
    "                        mode='markers',\n",
    "                        name=\"Evolution\",\n",
    "                        marker=dict(\n",
    "                            cmin = 0,\n",
    "                            cmax = 1,\n",
    "                            color = data_dict['probs'],\n",
    "                            size = 16\n",
    "                        )\n",
    "                ),\n",
    "                go.Scatter( \n",
    "                        x=data_dict['uniq_iterations'], \n",
    "                        y=data_dict['mean'], \n",
    "                        mode='lines+markers', \n",
    "                        name=\"Mean\",\n",
    "                        line=dict(\n",
    "                            shape='spline'\n",
    "                        )\n",
    "                ),\n",
    "                go.Scatter( \n",
    "                        x=data_dict['uniq_iterations'], \n",
    "                        y=data_dict['median'], \n",
    "                        mode='lines+markers', \n",
    "                        name=\"Median\",\n",
    "                        line=dict(\n",
    "                            shape='spline'\n",
    "                        )\n",
    "                )\n",
    "            ]\n",
    "\n",
    "# Set layout for figure\n",
    "layout = go.Layout(\n",
    "    title='Evolution of Capital Through Binomial Process',\n",
    "    font=dict(\n",
    "        family='Arial, sans-serif;',\n",
    "        size=12,\n",
    "        color='#000'\n",
    "    ),\n",
    "    orientation=0,\n",
    "    autosize=True,\n",
    "    annotations=[\n",
    "        dict(\n",
    "            x=n/2,\n",
    "            y=max(data_dict['values']),\n",
    "            text='Maximum Iterations: {0} | Probability {1}'.format(n, P_G),\n",
    "            showarrow=False\n",
    "        )\n",
    "    ]\n",
    ")\n",
    "\n",
    "# Plot figure\n",
    "iplot({\"data\": fig_data, \"layout\": layout})"
   ]
  }
 ],
 "metadata": {
  "anaconda-cloud": {},
  "kernelspec": {
   "display_name": "Python [Root]",
   "language": "python",
   "name": "Python [Root]"
  },
  "language_info": {
   "codemirror_mode": {
    "name": "ipython",
    "version": 3
   },
   "file_extension": ".py",
   "mimetype": "text/x-python",
   "name": "python",
   "nbconvert_exporter": "python",
   "pygments_lexer": "ipython3",
   "version": "3.5.2"
  }
 },
 "nbformat": 4,
 "nbformat_minor": 0
}
