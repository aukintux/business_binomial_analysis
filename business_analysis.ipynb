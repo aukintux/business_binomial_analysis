{
 "cells": [
  {
   "cell_type": "markdown",
   "metadata": {},
   "source": [
    "# Business Feasibility Overview"
   ]
  },
  {
   "cell_type": "markdown",
   "metadata": {},
   "source": [
    "The purpose of this notebook is to analyze the feasibility of a business based on its intrinsic probabilities of loss/gain and return on investment in the cases of loss/gain. \n",
    "\n",
    "This type of analysis refers to a very specific type of bussiness in which you have defined iterations. As far as we can think in a first approach there are 2 types of bussinessess:\n",
    "\n",
    "1. One starts with a principal P, bussiness has a defined madurity time T, and at the end of such maturity time the capital becomes O, in which, O = P + G, where G corresponds to the gain which can be positive or negative, each possible value of the range of G has a certain specific probability.\n",
    "2. One starts with a principal P, which is composed of a \"sunken capital\" S and a \"working capital\" W bussiness should in principle go on forever, however if bussiness does not adapt correctly to market conditions it will have an expiration date, which usually occurs, be it 100 years or 10 years, there is also a probability of initial kickstart success or failure Pk, this type of bussiness gives periodically a profit or loss G in periods of time T which are smaller than the expiration date, which is uncertain. The sunken part of the principal S devaluates (due to devaluation of assets) or valuates in time (due to brand awareness). With regard to the expiration date it is uncertain but one could assume a range in which it could take values with increasing probability of expiration as the time increases, asymptotically reaching 1 (this is the assumption that no bussiness lives forever, think universe imploding).\n",
    "\n",
    "The questions to solve in this Notebook refer to the first type of bussiness."
   ]
  },
  {
   "cell_type": "markdown",
   "metadata": {},
   "source": [
    "** Questions to solve: **\n",
    "\n",
    "Given the parameters of the business, namely: \n",
    "\n",
    "* The return on investment when a gain event occurs ROI_G.\n",
    "* The return on investment when a loss event occurs ROI_L.\n",
    "* The probability that a gain event occurs P_G.\n",
    "\n",
    "Where we have made simplifying assumptions given that the ROI_G, ROI_L are continuous variable P_G(ROI_G) is actually a single continuous real function. Also, we have made the simplifying assumption that the madurity time T is always the same. Which is also not absolutely true.\n",
    "\n",
    "1. Starting with a principal P, after N iterations, what is the probability to see that capital become O for each possible O that is allowed by the binomial process.\n",
    "\n",
    "2. On would also like to see how the capital P evolves through the Bernoulli process. However since at iteration N regardless of the specific Bernoulli process what matters is where this process falls in the Binomial distribution. Each Bernoulli process has equal  probability of ocurring as another which has the same amount of YES/NO Bernoulli trials in it. A graph of different timelines for each possible Bernoulli trial would be inadequate at best. Instead it would be interesting to see how the probability spreads out over the possible range of values of the Binomial process once the number of iterations increases. One would require a color plot. (Something similar to a Choropleth). This would be the time evolution of the projection to the x axis of the figure obtained in question 1.\n",
    "\n",
    "3. Obtain a single parameter that indicates whether a business is feasible in this sense or not. The definition of feasibility to use is to have X percent of the mass of the pmf above a certain ROI after n iterations. e.g. having 80% of the mass of the pmf above a factor of 2 or 200% ROI (profit) after 10 iterations. i.e. to have a 80% probability of earning a 200% profit after 10 iterations. According to this criteria one would determine if a business is feasible  or not. To define it after n=1 iterations would just result in the original parameters. This is a special case in which the answer of the questions is simplified and does not require numerical computations.\n",
    "\n",
    "4. Get probability of seeing a capital decline of X percent over the next n iterations. It does not matter the nominal value of capital you start at. Produce a plot where each curve represents the decline probability vs iterations for each cutoff percentage.\n",
    "\n",
    "5. Based on the results of question 4 obtain the probability of bankruptcy in n iterations. The probability of bankruptcy should be defined as seeing the capital decline over X percent i.e. it would be the probability attained by performing a sum over all curves that see a capital decline bigger than the cutoff value."
   ]
  },
  {
   "cell_type": "markdown",
   "metadata": {},
   "source": [
    "#### Import Modules"
   ]
  },
  {
   "cell_type": "code",
   "execution_count": 1,
   "metadata": {
    "collapsed": false
   },
   "outputs": [
    {
     "data": {
      "text/html": [
       "<script>requirejs.config({paths: { 'plotly': ['https://cdn.plot.ly/plotly-latest.min']},});if(!window.Plotly) {{require(['plotly'],function(plotly) {window.Plotly=plotly;});}}</script>"
      ],
      "text/plain": [
       "<IPython.core.display.HTML object>"
      ]
     },
     "metadata": {},
     "output_type": "display_data"
    }
   ],
   "source": [
    "# Numpy\n",
    "import numpy as np\n",
    "# Scipy\n",
    "from scipy import stats\n",
    "from scipy import linspace\n",
    "# Plotly\n",
    "from plotly.offline import download_plotlyjs, init_notebook_mode, plot, iplot\n",
    "import plotly.graph_objs as go\n",
    "init_notebook_mode(connected=True) # Offline plotting"
   ]
  },
  {
   "cell_type": "markdown",
   "metadata": {},
   "source": [
    "#### Define Common Parameters"
   ]
  },
  {
   "cell_type": "code",
   "execution_count": 2,
   "metadata": {
    "collapsed": true
   },
   "outputs": [],
   "source": [
    "# Probabilities\n",
    "P_G = 0.8\n",
    "# Return on investment rates\n",
    "ROI_G = 1\n",
    "ROI_L = -0.2\n",
    "# Principal (initial capital)\n",
    "P = 1"
   ]
  },
  {
   "cell_type": "markdown",
   "metadata": {},
   "source": [
    "#### Question 1. \n",
    "##### Starting with a principal P, after N iterations, what is the probability to see that capital become O for each possible O that is allowed by the binomial process."
   ]
  },
  {
   "cell_type": "markdown",
   "metadata": {},
   "source": [
    "Define the functions that will evolve the principal capital P a Binomial process."
   ]
  },
  {
   "cell_type": "code",
   "execution_count": 3,
   "metadata": {
    "collapsed": true
   },
   "outputs": [],
   "source": [
    "# Takes the principal P and performs the evolution of the capital using \n",
    "# the result x of the random binomial variable after n trials\n",
    "def evolve_with_binomial(P, x, n):\n",
    "    return P * ((1 + ROI_G) ** x) * ((1 + ROI_L) ** (n - x))"
   ]
  },
  {
   "cell_type": "markdown",
   "metadata": {},
   "source": [
    "Run the simulation using the Binomial process which is equivalent to performing a very large (~1000's) Bernoulli processes and grouping their results. Since the order in which 1's and 0's occur in the sequence does not affect the final result."
   ]
  },
  {
   "cell_type": "code",
   "execution_count": 4,
   "metadata": {
    "collapsed": false
   },
   "outputs": [],
   "source": [
    "# Number of iterations\n",
    "years = 5\n",
    "iterations_per_year = 2\n",
    "n = iterations_per_year * (years)\n",
    "\n",
    "# Sorted array of unique values ocurring in instance of Binomial process \n",
    "x_binomial = linspace(0,n,n+1)\n",
    "\n",
    "# Arrays of data to plot\n",
    "data_dict = { 'x': [], 'y': []}\n",
    "data_dict['x'] = [evolve_with_binomial(P, x, max(x_binomial)) for x in x_binomial]\n",
    "data_dict['y'] = stats.binom.pmf(x_binomial,max(x_binomial),P_G)\n",
    "\n",
    "# Plot data variable. It contains the trace objects\n",
    "fig_data = [\n",
    "                go.Bar( \n",
    "                        x=data_dict['x'], \n",
    "                        y=data_dict['y'], \n",
    "                        name=\"Probabilities\" \n",
    "                ),\n",
    "                go.Scatter( \n",
    "                        x=data_dict['x'], \n",
    "                        y=data_dict['y'], \n",
    "                        mode='lines+markers', \n",
    "                        name=\"Fitting\",\n",
    "                        line=dict(\n",
    "                            shape='spline'\n",
    "                        )\n",
    "                )\n",
    "            ]\n",
    "\n",
    "# Set layout for figure\n",
    "layout = go.Layout(\n",
    "    title='Binomial Distribution of Capital at N Iterations',\n",
    "    font=dict(\n",
    "        family='Arial, sans-serif;',\n",
    "        size=12,\n",
    "        color='#000'\n",
    "    ),\n",
    "    xaxis = dict(title='Capital Multiplier'),\n",
    "    yaxis = dict(title='Event Probability'),\n",
    "    orientation=0,\n",
    "    autosize=True,\n",
    "    annotations=[\n",
    "        dict(\n",
    "            x=max(data_dict['x'])/2,\n",
    "            y=max(data_dict['y']),\n",
    "            text='N: {0} | P_G: {1}'.format(n, P_G),\n",
    "            showarrow=False\n",
    "        )\n",
    "    ]\n",
    ")\n",
    "\n",
    "# Plot figure\n",
    "#iplot({\"data\": fig_data, \"layout\": layout})"
   ]
  },
  {
   "cell_type": "markdown",
   "metadata": {},
   "source": [
    "![title](img/question_1.png)"
   ]
  },
  {
   "cell_type": "markdown",
   "metadata": {},
   "source": [
    "#### Question 2.\n",
    "\n",
    "##### Plot the time evolution of the principal P through the Binomial process. Where a more intense color means a higher probability and a less intense color means a lower probability."
   ]
  },
  {
   "cell_type": "code",
   "execution_count": 5,
   "metadata": {
    "collapsed": false
   },
   "outputs": [],
   "source": [
    "# Number of iterations\n",
    "years = 5\n",
    "iterations_per_year = 2\n",
    "n = iterations_per_year * (years)\n",
    "\n",
    "# Arrays of data to plot\n",
    "data_dict = { 'values': [], 'probs': np.array([]), 'iterations': [], 'mean': [], 'most_prob': [], 'uniq_iterations': []}\n",
    "\n",
    "\n",
    "# For each iteration less than the maximun number of iterations\n",
    "i = 1\n",
    "while i <= n:\n",
    "    x_i = linspace(0,i,i+1) # Possible values of success event in \"i\" trials\n",
    "    values = [evolve_with_binomial(P, x, max(x_i)) for x in x_i] # Capital evolution according to Binomial process\n",
    "    probs = stats.binom.pmf(x_i,max(x_i),P_G) # Probabilities of Binomial process\n",
    "    # Set values in dictionary\n",
    "    data_dict['values'] = data_dict['values'] + values\n",
    "    data_dict['mean'].append(np.mean(values))\n",
    "    data_dict['most_prob'].append(values[np.argmax(probs)])\n",
    "    data_dict['uniq_iterations'].append(i)\n",
    "    data_dict['probs'] = np.concatenate((data_dict['probs'], probs), axis=0)\n",
    "    data_dict['iterations'] = data_dict['iterations'] + [i]*len(x_i)\n",
    "    i += 1\n",
    "\n",
    "# Plot data variable. It contains the trace objects\n",
    "fig_data = [\n",
    "                go.Scatter( \n",
    "                        x=data_dict['iterations'], \n",
    "                        y=data_dict['values'], \n",
    "                        mode='markers',\n",
    "                        name=\"Evolution\",\n",
    "                        marker=dict(\n",
    "                            cmin = 0,\n",
    "                            cmax = 1,\n",
    "                            color = data_dict['probs'],\n",
    "                            size = 16\n",
    "                        )\n",
    "                ),\n",
    "                go.Scatter( \n",
    "                        x=data_dict['uniq_iterations'], \n",
    "                        y=data_dict['mean'], \n",
    "                        mode='lines+markers', \n",
    "                        name=\"Mean\",\n",
    "                        line=dict(\n",
    "                            shape='spline'\n",
    "                        )\n",
    "                ),\n",
    "                go.Scatter( \n",
    "                        x=data_dict['uniq_iterations'], \n",
    "                        y=data_dict['most_prob'], \n",
    "                        mode='lines+markers', \n",
    "                        name=\"Most Probable\",\n",
    "                        line=dict(\n",
    "                            shape='spline'\n",
    "                        )\n",
    "                )\n",
    "            ]\n",
    "\n",
    "# Set layout for figure\n",
    "layout = go.Layout(\n",
    "    title='Evolution of Capital Through Binomial Process',\n",
    "    font=dict(\n",
    "        family='Arial, sans-serif;',\n",
    "        size=12,\n",
    "        color='#000'\n",
    "    ),\n",
    "    xaxis = dict(title='Iteration Number'),\n",
    "    yaxis = dict(title='Capital Multiplier'),\n",
    "    orientation=0,\n",
    "    autosize=True,\n",
    "    annotations=[\n",
    "        dict(\n",
    "            x=n/2,\n",
    "            y=max(data_dict['values']),\n",
    "            text='P_G: {0}'.format(P_G),\n",
    "            showarrow=False\n",
    "        )\n",
    "    ]\n",
    ")\n",
    "\n",
    "# Plot figure\n",
    "#iplot({\"data\": fig_data, \"layout\": layout})"
   ]
  },
  {
   "cell_type": "markdown",
   "metadata": {},
   "source": [
    "![title](img/question_2.png)"
   ]
  },
  {
   "cell_type": "markdown",
   "metadata": {},
   "source": [
    "The previous plot shows the evolution of the capital throughout the Binomial process, alongside we show the mean and the most probable value of the possible outcomes. As one increases the number of iterations the mean surpassess the most probable value for good while maintaining a very close gap."
   ]
  },
  {
   "cell_type": "markdown",
   "metadata": {},
   "source": [
    "#### Question 4. \n",
    "\n",
    "##### We want to see how likely it is to have a capital decline of \"X\" percent over the next \"n\" iterations."
   ]
  },
  {
   "cell_type": "markdown",
   "metadata": {},
   "source": [
    "The plot we want is obtained by selecting a subset of the evolution curve. The subset of the values correspond to those where the multiplying factors are less than 1. After such values are selected one applies the transformation:\n",
    "\n",
    "$$ y = 1-x$$\n",
    "\n",
    "In this new scale the y value represents the capital decline."
   ]
  },
  {
   "cell_type": "code",
   "execution_count": 6,
   "metadata": {
    "collapsed": false
   },
   "outputs": [],
   "source": [
    "# Calculate the possible capital declines and their respective probabilities \n",
    "data_dict[\"decline_values\"] = []\n",
    "data_dict[\"decline_probs\"] = []\n",
    "data_dict[\"decline_iterations\"] = []\n",
    "for index, val in enumerate(data_dict[\"values\"]):\n",
    "    if val < 1:\n",
    "        data_dict[\"decline_values\"].append((1-val)*100)\n",
    "        data_dict[\"decline_probs\"].append(100*data_dict[\"probs\"][index])\n",
    "        data_dict[\"decline_iterations\"].append(data_dict[\"iterations\"][index])\n",
    "        \n",
    "# Plot data variable. It contains the trace objects\n",
    "fig_data = [\n",
    "                go.Scatter( \n",
    "                        x=data_dict['decline_iterations'], \n",
    "                        y=data_dict['decline_values'], \n",
    "                        mode='markers',\n",
    "                        name=\"Evolution\",\n",
    "                        marker=dict(\n",
    "                            cmin = 0,\n",
    "                            cmax = 1,\n",
    "                            color = data_dict['decline_probs']\n",
    "                        )\n",
    "                )\n",
    "            ]\n",
    "\n",
    "fig_data[0].text = [\"Probability: {0:.2f}%\".format(prob) for prob in data_dict[\"decline_probs\"]]\n",
    "\n",
    "# Set layout for figure\n",
    "layout = go.Layout(\n",
    "    title='Possible Capital Decline Through Binomial Process',\n",
    "    font=dict(\n",
    "        family='Arial, sans-serif;',\n",
    "        size=12,\n",
    "        color='#000'\n",
    "    ),\n",
    "    xaxis = dict(title='Iteration Number'),\n",
    "    yaxis = dict(title='Percentage Decline [%]'),\n",
    "    orientation=0,\n",
    "    autosize=True,\n",
    "    annotations=[\n",
    "        dict(\n",
    "            x=max(data_dict[\"decline_iterations\"])/2,\n",
    "            y=max(data_dict['decline_values']),\n",
    "            text='P_G: {0}'.format(P_G),\n",
    "            showarrow=False\n",
    "        )\n",
    "    ]\n",
    ")\n",
    "\n",
    "# Plot figure\n",
    "#iplot({\"data\": fig_data, \"layout\": layout})"
   ]
  },
  {
   "cell_type": "markdown",
   "metadata": {},
   "source": [
    "![title](img/question_4.png)"
   ]
  },
  {
   "cell_type": "markdown",
   "metadata": {},
   "source": [
    "#### Question 5."
   ]
  },
  {
   "cell_type": "markdown",
   "metadata": {},
   "source": [
    "** Obtain the probability of bankrupcty after N iterations, bankruptcy is defined for the purposes of this notebook as the event in which the principal perceives a capital decline bigger than or equal to X percent **"
   ]
  },
  {
   "cell_type": "code",
   "execution_count": 7,
   "metadata": {
    "collapsed": false
   },
   "outputs": [],
   "source": [
    "# Capital percentage decline of bankruptcy\n",
    "CP_br = 20\n",
    "\n",
    "# Variable to store the plot data\n",
    "data_dict[\"bankruptcy_probs\"] = []\n",
    "data_dict[\"bankruptcy_iterations\"] = []\n",
    "\n",
    "# Calculate for each iteration the probability of bankruptcy\n",
    "iter_counter = 0\n",
    "for i, iteration in enumerate(data_dict[\"decline_iterations\"]):\n",
    "    if data_dict[\"decline_values\"][i] >= CP_br:\n",
    "        if iteration > iter_counter:\n",
    "            data_dict[\"bankruptcy_probs\"].append(data_dict[\"decline_probs\"][i])\n",
    "            data_dict[\"bankruptcy_iterations\"].append(iteration)\n",
    "        else:\n",
    "            data_dict[\"bankruptcy_probs\"][-1] = data_dict[\"bankruptcy_probs\"][-1] + data_dict[\"decline_probs\"][i]\n",
    "        iter_counter = iteration\n",
    "\n",
    "# Plot data variable. It contains the trace objects\n",
    "fig_data = [\n",
    "                go.Scatter( \n",
    "                        x=data_dict['bankruptcy_iterations'], \n",
    "                        y=data_dict['bankruptcy_probs'], \n",
    "                        mode='lines+markers', \n",
    "                        name=\"Mean\",\n",
    "                        line=dict(\n",
    "                            shape='spline'\n",
    "                        )\n",
    "                )\n",
    "            ]\n",
    "\n",
    "# Set layout for figure\n",
    "layout = go.Layout(\n",
    "    title='Probability of Bankruptcy Through Binomial Process',\n",
    "    font=dict(\n",
    "        family='Arial, sans-serif;',\n",
    "        size=12,\n",
    "        color='#000'\n",
    "    ),\n",
    "    xaxis = dict(title='Iteration Number'),\n",
    "    yaxis = dict(title='Event Probability [%]'),\n",
    "    orientation=0,\n",
    "    autosize=True,\n",
    "    annotations=[\n",
    "        dict(\n",
    "            x=max(data_dict['bankruptcy_iterations'])/2,\n",
    "            y=max(data_dict['bankruptcy_probs']),\n",
    "            text='P_G: {0} | CP_br: {1}%'.format(P_G, CP_br),\n",
    "            showarrow=False\n",
    "        )\n",
    "    ]\n",
    ")\n",
    "\n",
    "# Plot figure\n",
    "#iplot({\"data\": fig_data, \"layout\": layout})"
   ]
  },
  {
   "cell_type": "markdown",
   "metadata": {},
   "source": [
    "![title](img/question_5.png)"
   ]
  }
 ],
 "metadata": {
  "anaconda-cloud": {},
  "kernelspec": {
   "display_name": "Python [Root]",
   "language": "python",
   "name": "Python [Root]"
  },
  "language_info": {
   "codemirror_mode": {
    "name": "ipython",
    "version": 3
   },
   "file_extension": ".py",
   "mimetype": "text/x-python",
   "name": "python",
   "nbconvert_exporter": "python",
   "pygments_lexer": "ipython3",
   "version": "3.5.2"
  }
 },
 "nbformat": 4,
 "nbformat_minor": 0
}
