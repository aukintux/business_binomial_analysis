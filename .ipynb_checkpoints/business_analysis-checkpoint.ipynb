{
 "cells": [
  {
   "cell_type": "markdown",
   "metadata": {},
   "source": [
    "# Business Feasibility Overview"
   ]
  },
  {
   "cell_type": "markdown",
   "metadata": {},
   "source": [
    "The purpose of this notebook is to analyze the feasibility of a business based on its intrinsic probabilities of loss/gain and return on investment in the cases of loss/gain. \n",
    "\n",
    "This type of analysis refers to a very specific type of bussiness in which you have defined iterations. As far as we can think in a first approach there are 2 types of bussinessess:\n",
    "\n",
    "1. One starts with a principal P, bussiness has a defined madurity time T, and at the end of such maturity time the capital becomes O, in which, O = P + G, where G corresponds to the gain which can be positive or negative, each possible value of the range of G has a certain specific probability.\n",
    "2. One starts with a principal P, which is composed of a \"sunken capital\" S and a \"working capital\" W bussiness should in principle go on forever, however if bussiness does not adapt correctly to market conditions it will have an expiration date, which usually occurs, be it 100 years or 10 years, there is also a probability of initial kickstart success or failure Pk, this type of bussiness gives periodically a profit or loss G in periods of time T which are smaller than the expiration date, which is uncertain. The sunken part of the principal S devaluates (due to devaluation of assets) or valuates in time (due to brand awareness). With regard to the expiration date it is uncertain but one could assume a range in which it could take values with increasing probability of expiration as the time increases, asymptotically reaching 1 (this is the assumption that no bussiness lives forever, think universe imploding).\n",
    "\n",
    "The questions to solve in this Notebook refer to the first type of bussiness."
   ]
  },
  {
   "cell_type": "markdown",
   "metadata": {},
   "source": [
    "** Questions to solve: **\n",
    "\n",
    "Given the parameters of the business, namely: \n",
    "\n",
    "* The return on investment when a gain event occurs ROI_G.\n",
    "* The return on investment when a loss event occurs ROI_L.\n",
    "* The probability that a gain event occurs P_G.\n",
    "* The probability theat a loss event occurs P_L.\n",
    "\n",
    "Where we have made simplifying assumptions given that the ROI_G, ROI_L are continuous variables and P_G(ROI_G), P_L(ROI_L) are actually a single continuous real function. Also, we have made the simplifying assumption that the madurity time T is always the same. Which is also not absolutely true.\n",
    "\n",
    "1. Starting with a principal P, after N iterations, what is the probability to see that capital become O for each possible O that is allowed by the binomial process.\n",
    "2. Plot different scenarios, each with its probability on a line plot where one can see how does the capital evolves over time i.e. capital vs. iterations for each random sample of a binominal process.\n",
    "3. Obtain a single parameter that indicates whether a business is feasible in this sense or not. Defining feasibility as having an X percent of the mass of the curve in 1. in positive territory. After how many iterations? 5? 10? Infinite?\n",
    "4. Find out how likely it is to go bankrupt when one has a capital X. This could be at any period of time since the events are independent. Plot this probability of bankruptcy vs. the amount of capital.\n"
   ]
  },
  {
   "cell_type": "markdown",
   "metadata": {},
   "source": [
    "#### Import Modules"
   ]
  },
  {
   "cell_type": "code",
   "execution_count": 2,
   "metadata": {
    "collapsed": false
   },
   "outputs": [
    {
     "data": {
      "text/html": [
       "<script>requirejs.config({paths: { 'plotly': ['https://cdn.plot.ly/plotly-latest.min']},});if(!window.Plotly) {{require(['plotly'],function(plotly) {window.Plotly=plotly;});}}</script>"
      ],
      "text/plain": [
       "<IPython.core.display.HTML object>"
      ]
     },
     "metadata": {},
     "output_type": "display_data"
    }
   ],
   "source": [
    "# Numpy\n",
    "import numpy as np\n",
    "# Scipy\n",
    "from scipy import stats\n",
    "from scipy import linspace\n",
    "# Plotly\n",
    "from plotly.offline import download_plotlyjs, init_notebook_mode, plot, iplot\n",
    "import plotly.graph_objs as go\n",
    "init_notebook_mode(connected=True) # Offline plotting"
   ]
  },
  {
   "cell_type": "markdown",
   "metadata": {},
   "source": [
    "**==================================================================================================================**"
   ]
  },
  {
   "cell_type": "markdown",
   "metadata": {},
   "source": [
    "#### Define Common Parameters"
   ]
  },
  {
   "cell_type": "code",
   "execution_count": 3,
   "metadata": {
    "collapsed": true
   },
   "outputs": [],
   "source": [
    "# Probabilities\n",
    "P_G = 0.8\n",
    "# Return on investment rates\n",
    "ROI_G = 0.3\n",
    "ROI_L = -0.2\n",
    "# Principal (initial capital)\n",
    "P = 1"
   ]
  },
  {
   "cell_type": "markdown",
   "metadata": {},
   "source": [
    "#### Question 1."
   ]
  },
  {
   "cell_type": "markdown",
   "metadata": {},
   "source": [
    "Define the functions that will evolve the principal capital P a Binomial process."
   ]
  },
  {
   "cell_type": "code",
   "execution_count": 4,
   "metadata": {
    "collapsed": true
   },
   "outputs": [],
   "source": [
    "# Takes the principal P and performs the evolution of the capital using \n",
    "# the result x of the random binomial variable after n trials\n",
    "def evolve_with_binomial(P, x, n):\n",
    "    return P * ((1 + ROI_G) ** x) * ((1 + ROI_L) ** (n - x))"
   ]
  },
  {
   "cell_type": "markdown",
   "metadata": {},
   "source": [
    "Run the simulation using the Binomial process which is equivalent to performing a very large (~1000's) Bernoulli processes and grouping their results. Since the order in which 1's and 0's occur in the sequence does not affect the final result."
   ]
  },
  {
   "cell_type": "code",
   "execution_count": 5,
   "metadata": {
    "collapsed": false
   },
   "outputs": [
    {
     "data": {
      "text/html": [
       "<div id=\"4dd561d2-3d59-4be4-a363-0aa3420c10ea\" style=\"height: 525px; width: 100%;\" class=\"plotly-graph-div\"></div><script type=\"text/javascript\">require([\"plotly\"], function(Plotly) { window.PLOTLYENV=window.PLOTLYENV || {};window.PLOTLYENV.BASE_URL=\"https://plot.ly\";Plotly.newPlot(\"4dd561d2-3d59-4be4-a363-0aa3420c10ea\", [{\"type\": \"bar\", \"y\": [1.048576000000001e-14, 8.388607999999975e-13, 3.187671040000001e-11, 7.650410495999974e-10, 1.3005697843199945e-08, 1.6647293239295892e-07, 1.664729323929588e-06, 1.3317834591436803e-05, 8.656592484433902e-05, 0.000461684932503141, 0.002031413703013826, 0.007386958920050259, 0.022160876760150803, 0.0545498504865252, 0.10909970097304983, 0.17455952155687976, 0.21819940194610007, 0.2053641430080944, 0.13690942867206304, 0.05764607523034236, 0.011529215046068481], \"name\": \"Distribution\", \"x\": [0.011529215046068483, 0.018734974449861285, 0.03044433348102459, 0.049472041906664946, 0.08039206809833055, 0.13063711065978714, 0.21228530482215408, 0.34496362033600037, 0.5605658830460005, 0.9109195599497509, 1.4802442849183453, 2.405396962992311, 3.9087700648625052, 6.3517513554015705, 10.321595952527552, 16.77259342285727, 27.255464312143065, 44.29012950723249, 71.97146044925279, 116.95362323003576, 190.04963774880812]}, {\"line\": {\"shape\": \"spline\"}, \"x\": [0.011529215046068483, 0.018734974449861285, 0.03044433348102459, 0.049472041906664946, 0.08039206809833055, 0.13063711065978714, 0.21228530482215408, 0.34496362033600037, 0.5605658830460005, 0.9109195599497509, 1.4802442849183453, 2.405396962992311, 3.9087700648625052, 6.3517513554015705, 10.321595952527552, 16.77259342285727, 27.255464312143065, 44.29012950723249, 71.97146044925279, 116.95362323003576, 190.04963774880812], \"type\": \"scatter\", \"mode\": \"lines+markers\", \"y\": [1.048576000000001e-14, 8.388607999999975e-13, 3.187671040000001e-11, 7.650410495999974e-10, 1.3005697843199945e-08, 1.6647293239295892e-07, 1.664729323929588e-06, 1.3317834591436803e-05, 8.656592484433902e-05, 0.000461684932503141, 0.002031413703013826, 0.007386958920050259, 0.022160876760150803, 0.0545498504865252, 0.10909970097304983, 0.17455952155687976, 0.21819940194610007, 0.2053641430080944, 0.13690942867206304, 0.05764607523034236, 0.011529215046068481], \"name\": \"Fitting\"}], {\"autosize\": true, \"orientation\": 0, \"title\": \"Binomial Distribution after 20 iterations with probability 0.8\", \"font\": {\"color\": \"#000\", \"family\": \"Arial, sans-serif;\", \"size\": 12}}, {\"linkText\": \"Export to plot.ly\", \"showLink\": true})});</script>"
      ],
      "text/plain": [
       "<IPython.core.display.HTML object>"
      ]
     },
     "metadata": {},
     "output_type": "display_data"
    }
   ],
   "source": [
    "\n",
    "############# PARAMETERS OVERRIDE #############\n",
    "\n",
    "# This section is temporary used in order to change parameters\n",
    "# and understand how the graph varies with them\n",
    "\n",
    "\n",
    "# Probabilities\n",
    "P_G = 0.8\n",
    "# Return on investment rates\n",
    "ROI_G = 0.3\n",
    "ROI_L = -0.2\n",
    "# Principal (initial capital)\n",
    "P = 1\n",
    "\n",
    "\n",
    "\n",
    "############# PARAMETERS OVERRIDE #############\n",
    "\n",
    "\n",
    "# Number of iterations\n",
    "years = 10\n",
    "iterations_per_year = 2\n",
    "n = iterations_per_year * (years)\n",
    "\n",
    "# Sorted array of unique values ocurring in instance of Binomial process \n",
    "x_binomial = linspace(0,n,n+1)\n",
    "\n",
    "# Arrays of data to plot\n",
    "data_dict = { 'x': [], 'y': []}\n",
    "data_dict['x'] = [evolve_with_binomial(P, x, n) for x in x_binomial]\n",
    "data_dict['y'] = stats.binom.pmf(x_binomial,max(x_binomial),P_G)\n",
    "\n",
    "# Plot data variable. It contain the trace objects\n",
    "# \n",
    "fig_data = [\n",
    "                go.Bar( \n",
    "                        x=data_dict['x'], \n",
    "                        y=data_dict['y'], \n",
    "                        name=\"Distribution\" \n",
    "                ),\n",
    "                go.Scatter( \n",
    "                        x=data_dict['x'], \n",
    "                        y=data_dict['y'], \n",
    "                        mode='lines+markers', \n",
    "                        name=\"Fitting\",\n",
    "                        line=dict(\n",
    "                            shape='spline'\n",
    "                        )\n",
    "                )\n",
    "            ]\n",
    "\n",
    "# Set layout for figure\n",
    "layout = go.Layout(\n",
    "    title='Binomial Distribution after {0} iterations with probability {1}'.format(n, P_G),\n",
    "    font=dict(\n",
    "        family='Arial, sans-serif;',\n",
    "        size=12,\n",
    "        color='#000'\n",
    "    ),\n",
    "    orientation=0,\n",
    "    autosize=True\n",
    ")\n",
    "\n",
    "# Plot figure\n",
    "iplot({\"data\": fig_data, \"layout\": layout})"
   ]
  }
 ],
 "metadata": {
  "anaconda-cloud": {},
  "kernelspec": {
   "display_name": "Python [Root]",
   "language": "python",
   "name": "Python [Root]"
  },
  "language_info": {
   "codemirror_mode": {
    "name": "ipython",
    "version": 3
   },
   "file_extension": ".py",
   "mimetype": "text/x-python",
   "name": "python",
   "nbconvert_exporter": "python",
   "pygments_lexer": "ipython3",
   "version": "3.5.2"
  }
 },
 "nbformat": 4,
 "nbformat_minor": 0
}
