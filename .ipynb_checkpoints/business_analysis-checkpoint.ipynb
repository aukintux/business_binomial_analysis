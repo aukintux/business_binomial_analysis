{
 "cells": [
  {
   "cell_type": "markdown",
   "metadata": {},
   "source": [
    "# Business Feasibility Overview"
   ]
  },
  {
   "cell_type": "markdown",
   "metadata": {},
   "source": [
    "The purpose of this notebook is to analyze the feasibility of a business based on its intrinsic probabilities of loss/gain and return on investment in the cases of loss/gain. \n",
    "\n",
    "This type of analysis refers to a very specific type of bussiness in which you have defined iterations. As far as we can think in a first approach there are 2 types of bussinessess:\n",
    "\n",
    "1. One starts with a principal P, bussiness has a defined madurity time T, and at the end of such maturity time the capital becomes O, in which, O = P + G, where G corresponds to the gain which can be positive or negative, each possible value of the range of G has a certain specific probability.\n",
    "2. One starts with a principal P, which is composed of a \"sunken capital\" S and a \"working capital\" W bussiness should in principle go on forever, however if bussiness does not adapt correctly to market conditions it will have an expiration date, which usually occurs, be it 100 years or 10 years, there is also a probability of initial kickstart success or failure Pk, this type of bussiness gives periodically a profit or loss G in periods of time T which are smaller than the expiration date, which is uncertain. The sunken part of the principal S devaluates (due to devaluation of assets) or valuates in time (due to brand awareness). With regard to the expiration date it is uncertain but one could assume a range in which it could take values with increasing probability of expiration as the time increases, asymptotically reaching 1 (this is the assumption that no bussiness lives forever, think universe imploding).\n",
    "\n",
    "The questions to solve in this Notebook refer to the first type of bussiness."
   ]
  },
  {
   "cell_type": "markdown",
   "metadata": {},
   "source": [
    "** Questions to solve: **\n",
    "\n",
    "Given the parameters of the business, namely: \n",
    "\n",
    "* The return on investment when a gain event occurs ROI_G.\n",
    "* The return on investment when a loss event occurs ROI_L.\n",
    "* The probability that a gain event occurs P_G.\n",
    "\n",
    "Where we have made simplifying assumptions given that the ROI_G, ROI_L are continuous variable P_G(ROI_G) is actually a single continuous real function. Also, we have made the simplifying assumption that the madurity time T is always the same. Which is also not absolutely true.\n",
    "\n",
    "1. Starting with a principal P, after N iterations, what is the probability to see that capital become O for each possible O that is allowed by the binomial process.\n",
    "\n",
    "2. On would also like to see how the capital P evolves through the Bernoulli process. However since at iteration N regardless of the specific Bernoulli process what matters is where this process falls in the Binomial distribution. Each Bernoulli process has equal  probability of ocurring as another which has the same amount of YES/NO Bernoulli trials in it. A graph of different timelines for each possible Bernoulli trial would be inadequate at best. Instead it would be interesting to see how the probability spreads out over the possible range of values of the Binomial process once the number of iterations increases. One would require a color plot. (Something similar to a Choropleth). This would be the time evolution of the projection to the x axis of the figure obtained in question 1.\n",
    "\n",
    "3. Obtain a single parameter that indicates whether a business is feasible in this sense or not. The definition of feasibility to use is to have X percent of the mass of the pmf above a certain ROI after n iterations. e.g. having 80% of the mass of the pmf above a factor of 2 or 200% ROI (profit) after 10 iterations. i.e. to have a 80% probability of earning a 200% profit after 10 iterations. According to this criteria one would determine if a business is feasible  or not. To define it after n=1 iterations would just result in the original parameters. This is a special case in which the answer of the questions is simplified and does not require numerical computations.\n",
    "\n",
    "4. Get probability of seeing a capital decline of X percent over the next n iterations. It does not matter the nominal value of capital you start at. Produce a plot where each curve represents the decline probability vs iterations for each cutoff percentage.\n",
    "\n",
    "5. Based on the results of question 4 obtain the probability of bankruptcy in n iterations. The probability of bankruptcy should be defined as seeing the capital decline over X percent i.e. it would be the probability attained by performing a sum over all curves that see a capital decline bigger than the cutoff value."
   ]
  },
  {
   "cell_type": "markdown",
   "metadata": {},
   "source": [
    "#### Import Modules"
   ]
  },
  {
   "cell_type": "code",
   "execution_count": 1,
   "metadata": {
    "collapsed": false
   },
   "outputs": [
    {
     "data": {
      "text/html": [
       "<script>requirejs.config({paths: { 'plotly': ['https://cdn.plot.ly/plotly-latest.min']},});if(!window.Plotly) {{require(['plotly'],function(plotly) {window.Plotly=plotly;});}}</script>"
      ],
      "text/plain": [
       "<IPython.core.display.HTML object>"
      ]
     },
     "metadata": {},
     "output_type": "display_data"
    }
   ],
   "source": [
    "# Numpy\n",
    "import numpy as np\n",
    "# Scipy\n",
    "from scipy import stats\n",
    "from scipy import linspace\n",
    "# Plotly\n",
    "from plotly.offline import download_plotlyjs, init_notebook_mode, plot, iplot\n",
    "import plotly.graph_objs as go\n",
    "init_notebook_mode(connected=True) # Offline plotting"
   ]
  },
  {
   "cell_type": "markdown",
   "metadata": {},
   "source": [
    "**==================================================================================================================**"
   ]
  },
  {
   "cell_type": "markdown",
   "metadata": {},
   "source": [
    "#### Define Common Parameters"
   ]
  },
  {
   "cell_type": "code",
   "execution_count": 8,
   "metadata": {
    "collapsed": true
   },
   "outputs": [],
   "source": [
    "# Probabilities\n",
    "P_G = 0.8\n",
    "# Return on investment rates\n",
    "ROI_G = 0.5\n",
    "ROI_L = -0.2\n",
    "# Principal (initial capital)\n",
    "P = 1"
   ]
  },
  {
   "cell_type": "markdown",
   "metadata": {},
   "source": [
    "#### Question 1. \n",
    "##### Starting with a principal P, after N iterations, what is the probability to see that capital become O for each possible O that is allowed by the binomial process."
   ]
  },
  {
   "cell_type": "markdown",
   "metadata": {},
   "source": [
    "Define the functions that will evolve the principal capital P a Binomial process."
   ]
  },
  {
   "cell_type": "code",
   "execution_count": 9,
   "metadata": {
    "collapsed": true
   },
   "outputs": [],
   "source": [
    "# Takes the principal P and performs the evolution of the capital using \n",
    "# the result x of the random binomial variable after n trials\n",
    "def evolve_with_binomial(P, x, n):\n",
    "    return P * ((1 + ROI_G) ** x) * ((1 + ROI_L) ** (n - x))"
   ]
  },
  {
   "cell_type": "markdown",
   "metadata": {},
   "source": [
    "Run the simulation using the Binomial process which is equivalent to performing a very large (~1000's) Bernoulli processes and grouping their results. Since the order in which 1's and 0's occur in the sequence does not affect the final result."
   ]
  },
  {
   "cell_type": "code",
   "execution_count": 10,
   "metadata": {
    "collapsed": false
   },
   "outputs": [
    {
     "data": {
      "text/html": [
       "<div id=\"3c102754-a50c-4746-a30e-70ad33ad8bce\" style=\"height: 525px; width: 100%;\" class=\"plotly-graph-div\"></div><script type=\"text/javascript\">require([\"plotly\"], function(Plotly) { window.PLOTLYENV=window.PLOTLYENV || {};window.PLOTLYENV.BASE_URL=\"https://plot.ly\";Plotly.newPlot(\"3c102754-a50c-4746-a30e-70ad33ad8bce\", [{\"x\": [0.10737418240000006, 0.20132659200000008, 0.3774873600000002, 0.7077888000000002, 1.3271040000000005, 2.4883200000000008, 4.6656, 8.748000000000003, 16.402500000000003, 30.754687500000003, 57.6650390625], \"type\": \"bar\", \"name\": \"Probabilities\", \"y\": [1.0240000000000004e-07, 4.096000000000007e-06, 7.372799999999991e-05, 0.0007864319999999992, 0.005505024000000001, 0.02642411520000004, 0.08808038400000004, 0.20132659200000014, 0.301989888, 0.26843545600000035, 0.10737418240000005]}, {\"x\": [0.10737418240000006, 0.20132659200000008, 0.3774873600000002, 0.7077888000000002, 1.3271040000000005, 2.4883200000000008, 4.6656, 8.748000000000003, 16.402500000000003, 30.754687500000003, 57.6650390625], \"type\": \"scatter\", \"mode\": \"lines+markers\", \"line\": {\"shape\": \"spline\"}, \"name\": \"Fitting\", \"y\": [1.0240000000000004e-07, 4.096000000000007e-06, 7.372799999999991e-05, 0.0007864319999999992, 0.005505024000000001, 0.02642411520000004, 0.08808038400000004, 0.20132659200000014, 0.301989888, 0.26843545600000035, 0.10737418240000005]}], {\"autosize\": true, \"annotations\": [{\"x\": 28.83251953125, \"showarrow\": false, \"text\": \"N Iterations: 10 | Probability 0.8\", \"y\": 0.301989888}], \"font\": {\"color\": \"#000\", \"family\": \"Arial, sans-serif;\", \"size\": 12}, \"orientation\": 0, \"title\": \"Binomial Distribution of Capital at N Iterations\"}, {\"showLink\": true, \"linkText\": \"Export to plot.ly\"})});</script>"
      ],
      "text/plain": [
       "<IPython.core.display.HTML object>"
      ]
     },
     "metadata": {},
     "output_type": "display_data"
    }
   ],
   "source": [
    "# Number of iterations\n",
    "years = 5\n",
    "iterations_per_year = 2\n",
    "n = iterations_per_year * (years)\n",
    "\n",
    "# Sorted array of unique values ocurring in instance of Binomial process \n",
    "x_binomial = linspace(0,n,n+1)\n",
    "\n",
    "# Arrays of data to plot\n",
    "data_dict = { 'x': [], 'y': []}\n",
    "data_dict['x'] = [evolve_with_binomial(P, x, max(x_binomial)) for x in x_binomial]\n",
    "data_dict['y'] = stats.binom.pmf(x_binomial,max(x_binomial),P_G)\n",
    "\n",
    "# Plot data variable. It contains the trace objects\n",
    "fig_data = [\n",
    "                go.Bar( \n",
    "                        x=data_dict['x'], \n",
    "                        y=data_dict['y'], \n",
    "                        name=\"Probabilities\" \n",
    "                ),\n",
    "                go.Scatter( \n",
    "                        x=data_dict['x'], \n",
    "                        y=data_dict['y'], \n",
    "                        mode='lines+markers', \n",
    "                        name=\"Fitting\",\n",
    "                        line=dict(\n",
    "                            shape='spline'\n",
    "                        )\n",
    "                )\n",
    "            ]\n",
    "\n",
    "# Set layout for figure\n",
    "layout = go.Layout(\n",
    "    title='Binomial Distribution of Capital at N Iterations',\n",
    "    font=dict(\n",
    "        family='Arial, sans-serif;',\n",
    "        size=12,\n",
    "        color='#000'\n",
    "    ),\n",
    "    orientation=0,\n",
    "    autosize=True,\n",
    "    annotations=[\n",
    "        dict(\n",
    "            x=max(data_dict['x'])/2,\n",
    "            y=max(data_dict['y']),\n",
    "            text='N Iterations: {0} | Probability {1}'.format(n, P_G),\n",
    "            showarrow=False\n",
    "        )\n",
    "    ]\n",
    ")\n",
    "\n",
    "# Plot figure\n",
    "iplot({\"data\": fig_data, \"layout\": layout})"
   ]
  },
  {
   "cell_type": "markdown",
   "metadata": {},
   "source": [
    "#### Question 2.\n",
    "\n",
    "##### Plot the time evolution of the principal P through the Binomial process. Where a more intense color means a higher probability and a less intense color means a lower probability."
   ]
  },
  {
   "cell_type": "code",
   "execution_count": 41,
   "metadata": {
    "collapsed": false
   },
   "outputs": [
    {
     "data": {
      "text/html": [
       "<div id=\"cbffd6ff-b782-4c52-9a4f-e60e887d8611\" style=\"height: 525px; width: 100%;\" class=\"plotly-graph-div\"></div><script type=\"text/javascript\">require([\"plotly\"], function(Plotly) { window.PLOTLYENV=window.PLOTLYENV || {};window.PLOTLYENV.BASE_URL=\"https://plot.ly\";Plotly.newPlot(\"cbffd6ff-b782-4c52-9a4f-e60e887d8611\", [{\"x\": [1, 1, 2, 2, 2, 3, 3, 3, 3, 4, 4, 4, 4, 4, 5, 5, 5, 5, 5, 5, 6, 6, 6, 6, 6, 6, 6, 7, 7, 7, 7, 7, 7, 7, 7, 8, 8, 8, 8, 8, 8, 8, 8, 8, 9, 9, 9, 9, 9, 9, 9, 9, 9, 9, 10, 10, 10, 10, 10, 10, 10, 10, 10, 10, 10], \"type\": \"scatter\", \"mode\": \"markers\", \"marker\": {\"color\": [0.19999999999999998, 0.8, 0.03999999999999999, 0.32, 0.64, 0.007999999999999997, 0.09599999999999996, 0.38399999999999995, 0.5120000000000001, 0.0015999999999999992, 0.025599999999999994, 0.15360000000000001, 0.4096000000000001, 0.4096000000000001, 0.0003200000000000001, 0.006399999999999998, 0.051199999999999975, 0.20479999999999993, 0.4095999999999999, 0.3276800000000001, 6.399999999999996e-05, 0.0015360000000000011, 0.01536, 0.08192, 0.24575999999999998, 0.3932160000000002, 0.2621440000000001, 1.2799999999999977e-05, 0.00035839999999999977, 0.004300800000000003, 0.028671999999999996, 0.11468800000000001, 0.27525120000000014, 0.3670016000000001, 0.20971520000000007, 2.5599999999999975e-06, 8.191999999999981e-05, 0.0011468799999999996, 0.009175040000000008, 0.045875200000000005, 0.14680064000000004, 0.2936012800000001, 0.3355443200000002, 0.16777216000000006, 5.119999999999998e-07, 1.8431999999999975e-05, 0.0002949119999999992, 0.0027525119999999978, 0.016515071999999992, 0.06606028799999993, 0.17616076799999994, 0.3019898879999997, 0.3019898879999997, 0.13421772800000006, 1.0240000000000004e-07, 4.096000000000007e-06, 7.372799999999991e-05, 0.0007864319999999992, 0.005505024000000001, 0.02642411520000004, 0.08808038400000004, 0.20132659200000014, 0.301989888, 0.26843545600000035, 0.10737418240000005], \"cmin\": 0, \"cmax\": 1, \"size\": 16}, \"name\": \"Evolution\", \"y\": [0.8, 1.5, 0.6400000000000001, 1.2000000000000002, 2.25, 0.5120000000000001, 0.9600000000000002, 1.8, 3.375, 0.4096000000000001, 0.7680000000000002, 1.4400000000000004, 2.7, 5.0625, 0.3276800000000001, 0.6144000000000001, 1.1520000000000004, 2.1600000000000006, 4.05, 7.59375, 0.2621440000000001, 0.4915200000000001, 0.9216000000000002, 1.7280000000000004, 3.2400000000000007, 6.075, 11.390625, 0.20971520000000007, 0.3932160000000001, 0.7372800000000002, 1.3824000000000003, 2.5920000000000005, 4.860000000000001, 9.1125, 17.0859375, 0.1677721600000001, 0.3145728000000001, 0.5898240000000002, 1.1059200000000002, 2.0736000000000003, 3.888000000000001, 7.290000000000002, 13.668750000000001, 25.62890625, 0.13421772800000006, 0.25165824000000014, 0.47185920000000015, 0.8847360000000003, 1.6588800000000004, 3.1104000000000007, 5.832000000000002, 10.935000000000002, 20.503125, 38.443359375, 0.10737418240000006, 0.20132659200000008, 0.3774873600000002, 0.7077888000000002, 1.3271040000000005, 2.4883200000000008, 4.6656, 8.748000000000003, 16.402500000000003, 30.754687500000003, 57.6650390625]}, {\"x\": [1, 2, 3, 4, 5, 6, 7, 8, 9, 10], \"type\": \"scatter\", \"mode\": \"lines+markers\", \"line\": {\"shape\": \"spline\"}, \"name\": \"Mean\", \"y\": [1.15, 1.3633333333333333, 1.66175, 2.07602, 2.6496383333333333, 3.4441270000000004, 4.546631087500001, 6.0808161344444445, 8.2225235543, 11.222293408809092]}, {\"x\": [1, 2, 3, 4, 5, 6, 7, 8, 9, 10], \"type\": \"scatter\", \"mode\": \"lines+markers\", \"line\": {\"shape\": \"spline\"}, \"name\": \"Most Probable\", \"y\": [1.5, 2.25, 3.375, 2.7, 4.05, 6.075, 9.1125, 13.668750000000001, 10.935000000000002, 16.402500000000003]}], {\"autosize\": true, \"annotations\": [{\"x\": 5.0, \"showarrow\": false, \"text\": \"Maximum Iterations: 10 | Probability 0.8 | Years 5 | Iterations Per Year 2\", \"y\": 57.6650390625}], \"font\": {\"color\": \"#000\", \"family\": \"Arial, sans-serif;\", \"size\": 12}, \"orientation\": 0, \"title\": \"Evolution of Capital Through Binomial Process\"}, {\"showLink\": true, \"linkText\": \"Export to plot.ly\"})});</script>"
      ],
      "text/plain": [
       "<IPython.core.display.HTML object>"
      ]
     },
     "metadata": {},
     "output_type": "display_data"
    }
   ],
   "source": [
    "# Number of iterations\n",
    "years = 5\n",
    "iterations_per_year = 2\n",
    "n = iterations_per_year * (years)\n",
    "\n",
    "# Arrays of data to plot\n",
    "data_dict = { 'values': [], 'probs': np.array([]), 'iterations': [], 'mean': [], 'most_prob': [], 'uniq_iterations': []}\n",
    "\n",
    "\n",
    "# For each iteration less than the maximun number of iterations\n",
    "i = 1\n",
    "while i <= n:\n",
    "    x_i = linspace(0,i,i+1) # Possible values of success event in \"i\" trials\n",
    "    values = [evolve_with_binomial(P, x, max(x_i)) for x in x_i] # Capital evolution according to Binomial process\n",
    "    probs = stats.binom.pmf(x_i,max(x_i),P_G) # Probabilities of Binomial process\n",
    "    # Set values in dictionary\n",
    "    data_dict['values'] = data_dict['values'] + values\n",
    "    data_dict['mean'].append(np.mean(values))\n",
    "    data_dict['most_prob'].append(values[np.argmax(probs)])\n",
    "    data_dict['uniq_iterations'].append(i)\n",
    "    data_dict['probs'] = np.concatenate((data_dict['probs'], probs), axis=0)\n",
    "    data_dict['iterations'] = data_dict['iterations'] + [i]*len(x_i)\n",
    "    i += 1\n",
    "\n",
    "# Plot data variable. It contains the trace objects\n",
    "fig_data = [\n",
    "                go.Scatter( \n",
    "                        x=data_dict['iterations'], \n",
    "                        y=data_dict['values'], \n",
    "                        mode='markers',\n",
    "                        name=\"Evolution\",\n",
    "                        marker=dict(\n",
    "                            cmin = 0,\n",
    "                            cmax = 1,\n",
    "                            color = data_dict['probs'],\n",
    "                            size = 16\n",
    "                        )\n",
    "                ),\n",
    "                go.Scatter( \n",
    "                        x=data_dict['uniq_iterations'], \n",
    "                        y=data_dict['mean'], \n",
    "                        mode='lines+markers', \n",
    "                        name=\"Mean\",\n",
    "                        line=dict(\n",
    "                            shape='spline'\n",
    "                        )\n",
    "                ),\n",
    "                go.Scatter( \n",
    "                        x=data_dict['uniq_iterations'], \n",
    "                        y=data_dict['most_prob'], \n",
    "                        mode='lines+markers', \n",
    "                        name=\"Most Probable\",\n",
    "                        line=dict(\n",
    "                            shape='spline'\n",
    "                        )\n",
    "                )\n",
    "            ]\n",
    "\n",
    "# Set layout for figure\n",
    "layout = go.Layout(\n",
    "    title='Evolution of Capital Through Binomial Process',\n",
    "    font=dict(\n",
    "        family='Arial, sans-serif;',\n",
    "        size=12,\n",
    "        color='#000'\n",
    "    ),\n",
    "    orientation=0,\n",
    "    autosize=True,\n",
    "    annotations=[\n",
    "        dict(\n",
    "            x=n/2,\n",
    "            y=max(data_dict['values']),\n",
    "            text='Maximum Iterations: {0} | Probability {1} | Years {2} | Iterations Per Year {3}'.format(n, P_G, years, iterations_per_year),\n",
    "            showarrow=False\n",
    "        )\n",
    "    ]\n",
    ")\n",
    "\n",
    "# Plot figure\n",
    "iplot({\"data\": fig_data, \"layout\": layout})"
   ]
  },
  {
   "cell_type": "markdown",
   "metadata": {},
   "source": [
    "The previous plot shows the evolution of the capital throughout the Binomial process, alongside we show the mean and the most probable value of the possible outcomes. As one increases the number of iterations the mean surpassess the most probable value for good while maintaining a very close gap."
   ]
  },
  {
   "cell_type": "markdown",
   "metadata": {},
   "source": [
    "#### Question 4. \n",
    "\n",
    "##### We want to see how likely it is to have a capital decline of \"X\" percent over the next \"n\" iterations."
   ]
  },
  {
   "cell_type": "markdown",
   "metadata": {},
   "source": [
    "The plot we want is obtained by selecting a subset of the evolution curve. The subset of the values correspond to those where the multiplying factors are less than 1. After such values are selected one applies the transformation:\n",
    "\n",
    "$$f(x) = 1-x$$\n",
    "\n",
    "In this new scale the y value signifies the capital decline."
   ]
  },
  {
   "cell_type": "code",
   "execution_count": 38,
   "metadata": {
    "collapsed": false
   },
   "outputs": [
    {
     "data": {
      "text/html": [
       "<div id=\"065074e3-6636-4a97-aa7c-3e235a13806c\" style=\"height: 525px; width: 100%;\" class=\"plotly-graph-div\"></div><script type=\"text/javascript\">require([\"plotly\"], function(Plotly) { window.PLOTLYENV=window.PLOTLYENV || {};window.PLOTLYENV.BASE_URL=\"https://plot.ly\";Plotly.newPlot(\"065074e3-6636-4a97-aa7c-3e235a13806c\", [{\"x\": [1, 2, 3, 3, 4, 4, 5, 5, 6, 6, 6, 7, 7, 7, 8, 8, 8, 9, 9, 9, 9, 10, 10, 10, 10], \"type\": \"scatter\", \"mode\": \"markers\", \"marker\": {\"color\": [20.0, 3.9999999999999987, 0.7999999999999997, 9.599999999999996, 0.15999999999999992, 2.5599999999999996, 0.03200000000000001, 0.6399999999999998, 0.006399999999999996, 0.15360000000000013, 1.536, 0.0012799999999999977, 0.035839999999999976, 0.4300800000000003, 0.00025599999999999977, 0.00819199999999998, 0.11468799999999997, 5.1199999999999984e-05, 0.0018431999999999975, 0.029491199999999922, 0.27525119999999975, 1.0240000000000004e-05, 0.0004096000000000007, 0.007372799999999992, 0.07864319999999993], \"cmin\": 0, \"cmax\": 1}, \"name\": \"Evolution\", \"text\": [\"Probability: 20.00%\", \"Probability: 4.00%\", \"Probability: 0.80%\", \"Probability: 9.60%\", \"Probability: 0.16%\", \"Probability: 2.56%\", \"Probability: 0.03%\", \"Probability: 0.64%\", \"Probability: 0.01%\", \"Probability: 0.15%\", \"Probability: 1.54%\", \"Probability: 0.00%\", \"Probability: 0.04%\", \"Probability: 0.43%\", \"Probability: 0.00%\", \"Probability: 0.01%\", \"Probability: 0.11%\", \"Probability: 0.00%\", \"Probability: 0.00%\", \"Probability: 0.03%\", \"Probability: 0.28%\", \"Probability: 0.00%\", \"Probability: 0.00%\", \"Probability: 0.01%\", \"Probability: 0.08%\"], \"y\": [19.999999999999996, 35.999999999999986, 48.79999999999999, 3.9999999999999813, 59.03999999999999, 23.199999999999974, 67.23199999999999, 38.559999999999995, 73.78559999999999, 50.847999999999985, 7.83999999999998, 79.02847999999999, 60.67839999999999, 26.271999999999984, 83.22278399999999, 68.54271999999999, 41.01759999999997, 86.57822719999999, 74.83417599999999, 52.81407999999998, 11.52639999999997, 89.26258175999999, 79.8673408, 62.251263999999985, 29.221119999999978]}], {\"autosize\": true, \"annotations\": [{\"x\": 5.0, \"showarrow\": false, \"text\": \"Maximum Iterations: 10 | Probability 0.8 | Years 5 | Iterations Per Year 2\", \"y\": 89.26258175999999}], \"font\": {\"color\": \"#000\", \"family\": \"Arial, sans-serif;\", \"size\": 12}, \"orientation\": 0, \"title\": \"Possible Capital Decline Through Binomial Process\"}, {\"showLink\": true, \"linkText\": \"Export to plot.ly\"})});</script>"
      ],
      "text/plain": [
       "<IPython.core.display.HTML object>"
      ]
     },
     "metadata": {},
     "output_type": "display_data"
    }
   ],
   "source": [
    "data_dict[\"decline_values\"] = []\n",
    "data_dict[\"decline_probs\"] = []\n",
    "data_dict[\"decline_iterations\"] = []\n",
    "for index, val in enumerate(data_dict[\"values\"]):\n",
    "    if val < 1:\n",
    "        data_dict[\"decline_values\"].append((1-val)*100)\n",
    "        data_dict[\"decline_probs\"].append(100*data_dict[\"probs\"][index])\n",
    "        data_dict[\"decline_iterations\"].append(data_dict[\"iterations\"][index])\n",
    "        \n",
    "# Plot data variable. It contains the trace objects\n",
    "fig_data = [\n",
    "                go.Scatter( \n",
    "                        x=data_dict['decline_iterations'], \n",
    "                        y=data_dict['decline_values'], \n",
    "                        mode='markers',\n",
    "                        name=\"Evolution\",\n",
    "                        marker=dict(\n",
    "                            cmin = 0,\n",
    "                            cmax = 1,\n",
    "                            color = data_dict['decline_probs']\n",
    "                        )\n",
    "                )\n",
    "            ]\n",
    "\n",
    "fig_data[0].text = [\"Probability: {0:.2f}%\".format(prob) for prob in data_dict[\"decline_probs\"]]\n",
    "\n",
    "# Set layout for figure\n",
    "layout = go.Layout(\n",
    "    title='Possible Capital Decline Through Binomial Process',\n",
    "    font=dict(\n",
    "        family='Arial, sans-serif;',\n",
    "        size=12,\n",
    "        color='#000'\n",
    "    ),\n",
    "    orientation=0,\n",
    "    autosize=True,\n",
    "    annotations=[\n",
    "        dict(\n",
    "            x=max(data_dict[\"decline_iterations\"])/2,\n",
    "            y=max(data_dict['decline_values']),\n",
    "            text='Maximum Iterations: {0} | Probability {1} | Years {2} | Iterations Per Year {3}'.format(n, P_G, years, iterations_per_year),\n",
    "            showarrow=False\n",
    "        )\n",
    "    ]\n",
    ")\n",
    "\n",
    "# Plot figure\n",
    "iplot({\"data\": fig_data, \"layout\": layout})"
   ]
  }
 ],
 "metadata": {
  "anaconda-cloud": {},
  "kernelspec": {
   "display_name": "Python [Root]",
   "language": "python",
   "name": "Python [Root]"
  },
  "language_info": {
   "codemirror_mode": {
    "name": "ipython",
    "version": 3
   },
   "file_extension": ".py",
   "mimetype": "text/x-python",
   "name": "python",
   "nbconvert_exporter": "python",
   "pygments_lexer": "ipython3",
   "version": "3.5.2"
  }
 },
 "nbformat": 4,
 "nbformat_minor": 0
}
