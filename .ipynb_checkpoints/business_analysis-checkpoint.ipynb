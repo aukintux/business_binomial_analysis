{
 "cells": [
  {
   "cell_type": "markdown",
   "metadata": {},
   "source": [
    "# Business Feasibility Overview"
   ]
  },
  {
   "cell_type": "markdown",
   "metadata": {},
   "source": [
    "The purpose of this notebook is to analyze the feasibility of a business based on its intrinsic probabilities of loss/gain and return on investment in the cases of loss/gain. \n",
    "\n",
    "This type of analysis refers to a very specific type of bussiness in which you have defined iterations. As far as we can think in a first approach there are 2 types of bussinessess:\n",
    "\n",
    "1. One starts with a principal P, bussiness has a defined madurity time T, and at the end of such maturity time the capital becomes O, in which, O = P + G, where G corresponds to the gain which can be positive or negative, each possible value of the range of G has a certain specific probability.\n",
    "2. One starts with a principal P, which is composed of a \"sunken capital\" S and a \"working capital\" W bussiness should in principle go on forever, however if bussiness does not adapt correctly to market conditions it will have an expiration date, which usually occurs, be it 100 years or 10 years, there is also a probability of initial kickstart success or failure Pk, this type of bussiness gives periodically a profit or loss G in periods of time T which are smaller than the expiration date, which is uncertain. The sunken part of the principal S devaluates (due to devaluation of assets) or valuates in time (due to brand awareness). With regard to the expiration date it is uncertain but one could assume a range in which it could take values with increasing probability of expiration as the time increases, asymptotically reaching 1 (this is the assumption that no bussiness lives forever, think universe imploding).\n",
    "\n",
    "The questions to solve in this Notebook refer to the first type of bussiness."
   ]
  },
  {
   "cell_type": "markdown",
   "metadata": {},
   "source": [
    "** Questions to solve: **\n",
    "\n",
    "Given the parameters of the business, namely: \n",
    "\n",
    "* The return on investment when a gain event occurs ROI_G.\n",
    "* The return on investment when a loss event occurs ROI_L.\n",
    "* The probability that a gain event occurs P_G.\n",
    "\n",
    "Where we have made simplifying assumptions given that the ROI_G, ROI_L are continuous variable P_G(ROI_G) is actually a single continuous real function. Also, we have made the simplifying assumption that the madurity time T is always the same. Which is also not absolutely true.\n",
    "\n",
    "1. Starting with a principal P, after N iterations, what is the probability to see that capital become O for each possible O that is allowed by the binomial process.\n",
    "\n",
    "2. On would also like to see how the capital P evolves through the Bernoulli process. However since at iteration N regardless of the specific Bernoulli process what matters is where this process falls in the Binomial distribution. Each Bernoulli process has equal  probability of ocurring as another which has the same amount of YES/NO Bernoulli trials in it. A graph of different timelines for each possible Bernoulli trial would be inadequate at best. Instead it would be interesting to see how the probability spreads out over the possible range of values of the Binomial process once the number of iterations increases. One would require a color plot. (Something similar to a Choropleth). This would be the time evolution of the projection to the x axis of the figure obtained in question 1.\n",
    "\n",
    "3. Obtain a single parameter that indicates whether a business is feasible in this sense or not. The definition of feasibility to use is to have X percent of the mass of the pmf above a certain ROI after n iterations. e.g. having 80% of the mass of the pmf above a factor of 2 or 200% ROI (profit) after 10 iterations. i.e. to have a 80% probability of earning a 200% profit after 10 iterations. According to this criteria one would determine if a business is feasible  or not. To define it after n=1 iterations would just result in the original parameters. This is a special case in which the answer of the questions is simplified and does not require numerical computations.\n",
    "\n",
    "4. Get probability of seeing a capital decline of X percent over the next n iterations. It does not matter the nominal value of capital you start at. Produce a plot where each curve represents the decline probability vs iterations for each cutoff percentage.\n",
    "\n",
    "5. Based on the results of question 4 obtain the probability of bankruptcy in n iterations. The probability of bankruptcy should be defined as seeing the capital decline over X percent i.e. it would be the probability attained by performing a sum over all curves that see a capital decline bigger than the cutoff value."
   ]
  },
  {
   "cell_type": "markdown",
   "metadata": {},
   "source": [
    "#### Import Modules"
   ]
  },
  {
   "cell_type": "code",
   "execution_count": 1,
   "metadata": {
    "collapsed": false
   },
   "outputs": [
    {
     "data": {
      "text/html": [
       "<script>requirejs.config({paths: { 'plotly': ['https://cdn.plot.ly/plotly-latest.min']},});if(!window.Plotly) {{require(['plotly'],function(plotly) {window.Plotly=plotly;});}}</script>"
      ],
      "text/plain": [
       "<IPython.core.display.HTML object>"
      ]
     },
     "metadata": {},
     "output_type": "display_data"
    }
   ],
   "source": [
    "# Numpy\n",
    "import numpy as np\n",
    "# Scipy\n",
    "from scipy import stats\n",
    "from scipy import linspace\n",
    "# Plotly\n",
    "from plotly.offline import download_plotlyjs, init_notebook_mode, plot, iplot\n",
    "import plotly.graph_objs as go\n",
    "init_notebook_mode(connected=True) # Offline plotting"
   ]
  },
  {
   "cell_type": "markdown",
   "metadata": {},
   "source": [
    "**==================================================================================================================**"
   ]
  },
  {
   "cell_type": "markdown",
   "metadata": {},
   "source": [
    "#### Define Common Parameters"
   ]
  },
  {
   "cell_type": "code",
   "execution_count": 18,
   "metadata": {
    "collapsed": true
   },
   "outputs": [],
   "source": [
    "# Probabilities\n",
    "P_G = 0.8\n",
    "# Return on investment rates\n",
    "ROI_G = 0.4\n",
    "ROI_L = -0.2\n",
    "# Principal (initial capital)\n",
    "P = 10"
   ]
  },
  {
   "cell_type": "markdown",
   "metadata": {},
   "source": [
    "#### Question 1. \n",
    "##### Starting with a principal P, after N iterations, what is the probability to see that capital become O for each possible O that is allowed by the binomial process."
   ]
  },
  {
   "cell_type": "markdown",
   "metadata": {},
   "source": [
    "Define the functions that will evolve the principal capital P a Binomial process."
   ]
  },
  {
   "cell_type": "code",
   "execution_count": 19,
   "metadata": {
    "collapsed": true
   },
   "outputs": [],
   "source": [
    "# Takes the principal P and performs the evolution of the capital using \n",
    "# the result x of the random binomial variable after n trials\n",
    "def evolve_with_binomial(P, x, n):\n",
    "    return P * ((1 + ROI_G) ** x) * ((1 + ROI_L) ** (n - x))"
   ]
  },
  {
   "cell_type": "markdown",
   "metadata": {},
   "source": [
    "Run the simulation using the Binomial process which is equivalent to performing a very large (~1000's) Bernoulli processes and grouping their results. Since the order in which 1's and 0's occur in the sequence does not affect the final result."
   ]
  },
  {
   "cell_type": "code",
   "execution_count": 20,
   "metadata": {
    "collapsed": false
   },
   "outputs": [
    {
     "data": {
      "text/html": [
       "<div id=\"7a36f8bf-f587-4f57-bced-49c897d1436a\" style=\"height: 525px; width: 100%;\" class=\"plotly-graph-div\"></div><script type=\"text/javascript\">require([\"plotly\"], function(Plotly) { window.PLOTLYENV=window.PLOTLYENV || {};window.PLOTLYENV.BASE_URL=\"https://plot.ly\";Plotly.newPlot(\"7a36f8bf-f587-4f57-bced-49c897d1436a\", [{\"name\": \"Probabilities\", \"y\": [1.048576000000001e-14, 8.388607999999975e-13, 3.187671040000001e-11, 7.650410495999974e-10, 1.3005697843199945e-08, 1.6647293239295892e-07, 1.664729323929588e-06, 1.3317834591436803e-05, 8.656592484433902e-05, 0.000461684932503141, 0.002031413703013826, 0.007386958920050259, 0.022160876760150803, 0.0545498504865252, 0.10909970097304983, 0.17455952155687976, 0.21819940194610007, 0.2053641430080944, 0.13690942867206304, 0.05764607523034236, 0.011529215046068481], \"x\": [0.11529215046068483, 0.20176126330619842, 0.35308221078584723, 0.6178938688752326, 1.0813142705316567, 1.8922999734303991, 3.311524953503198, 5.795168668630596, 10.14154517010354, 17.747704047681196, 31.05848208344209, 54.352343646023655, 95.1166013805414, 166.4540524159474, 291.2945917279079, 509.76553552383876, 892.0896871667177, 1561.1569525417558, 2732.024666948072, 4781.043167159126, 8366.82554252847], \"type\": \"bar\"}, {\"mode\": \"lines+markers\", \"y\": [1.048576000000001e-14, 8.388607999999975e-13, 3.187671040000001e-11, 7.650410495999974e-10, 1.3005697843199945e-08, 1.6647293239295892e-07, 1.664729323929588e-06, 1.3317834591436803e-05, 8.656592484433902e-05, 0.000461684932503141, 0.002031413703013826, 0.007386958920050259, 0.022160876760150803, 0.0545498504865252, 0.10909970097304983, 0.17455952155687976, 0.21819940194610007, 0.2053641430080944, 0.13690942867206304, 0.05764607523034236, 0.011529215046068481], \"x\": [0.11529215046068483, 0.20176126330619842, 0.35308221078584723, 0.6178938688752326, 1.0813142705316567, 1.8922999734303991, 3.311524953503198, 5.795168668630596, 10.14154517010354, 17.747704047681196, 31.05848208344209, 54.352343646023655, 95.1166013805414, 166.4540524159474, 291.2945917279079, 509.76553552383876, 892.0896871667177, 1561.1569525417558, 2732.024666948072, 4781.043167159126, 8366.82554252847], \"type\": \"scatter\", \"line\": {\"shape\": \"spline\"}, \"name\": \"Fitting\"}], {\"orientation\": 0, \"font\": {\"family\": \"Arial, sans-serif;\", \"size\": 12, \"color\": \"#000\"}, \"title\": \"Binomial Distribution of Capital at N Iterations\", \"autosize\": true, \"annotations\": [{\"showarrow\": false, \"y\": 0.21819940194610007, \"x\": 4183.412771264235, \"text\": \"N Iterations: 20 | Probability 0.8\"}]}, {\"linkText\": \"Export to plot.ly\", \"showLink\": true})});</script>"
      ],
      "text/plain": [
       "<IPython.core.display.HTML object>"
      ]
     },
     "metadata": {},
     "output_type": "display_data"
    }
   ],
   "source": [
    "# Number of iterations\n",
    "years = 10\n",
    "iterations_per_year = 2\n",
    "n = iterations_per_year * (years)\n",
    "\n",
    "# Sorted array of unique values ocurring in instance of Binomial process \n",
    "x_binomial = linspace(0,n,n+1)\n",
    "\n",
    "# Arrays of data to plot\n",
    "data_dict = { 'x': [], 'y': []}\n",
    "data_dict['x'] = [evolve_with_binomial(P, x, max(x_binomial)) for x in x_binomial]\n",
    "data_dict['y'] = stats.binom.pmf(x_binomial,max(x_binomial),P_G)\n",
    "\n",
    "# Plot data variable. It contains the trace objects\n",
    "fig_data = [\n",
    "                go.Bar( \n",
    "                        x=data_dict['x'], \n",
    "                        y=data_dict['y'], \n",
    "                        name=\"Probabilities\" \n",
    "                ),\n",
    "                go.Scatter( \n",
    "                        x=data_dict['x'], \n",
    "                        y=data_dict['y'], \n",
    "                        mode='lines+markers', \n",
    "                        name=\"Fitting\",\n",
    "                        line=dict(\n",
    "                            shape='spline'\n",
    "                        )\n",
    "                )\n",
    "            ]\n",
    "\n",
    "# Set layout for figure\n",
    "layout = go.Layout(\n",
    "    title='Binomial Distribution of Capital at N Iterations',\n",
    "    font=dict(\n",
    "        family='Arial, sans-serif;',\n",
    "        size=12,\n",
    "        color='#000'\n",
    "    ),\n",
    "    orientation=0,\n",
    "    autosize=True,\n",
    "    annotations=[\n",
    "        dict(\n",
    "            x=max(data_dict['x'])/2,\n",
    "            y=max(data_dict['y']),\n",
    "            text='N Iterations: {0} | Probability {1}'.format(n, P_G),\n",
    "            showarrow=False\n",
    "        )\n",
    "    ]\n",
    ")\n",
    "\n",
    "# Plot figure\n",
    "iplot({\"data\": fig_data, \"layout\": layout})"
   ]
  },
  {
   "cell_type": "markdown",
   "metadata": {},
   "source": [
    "#### Question 2.\n",
    "\n",
    "##### Plot the time evolution of the principal P through the Binomial process. Where a more intense color means a higher probability and a less intense color means a lower probability."
   ]
  },
  {
   "cell_type": "code",
   "execution_count": 21,
   "metadata": {
    "collapsed": false
   },
   "outputs": [
    {
     "data": {
      "text/html": [
       "<div id=\"98f4dcfb-e686-4a6a-9068-72ea34884c88\" style=\"height: 525px; width: 100%;\" class=\"plotly-graph-div\"></div><script type=\"text/javascript\">require([\"plotly\"], function(Plotly) { window.PLOTLYENV=window.PLOTLYENV || {};window.PLOTLYENV.BASE_URL=\"https://plot.ly\";Plotly.newPlot(\"98f4dcfb-e686-4a6a-9068-72ea34884c88\", [{\"mode\": \"markers\", \"y\": [8.0, 14.0, 6.400000000000001, 11.200000000000001, 19.599999999999998, 5.120000000000001, 8.96, 15.68, 27.439999999999994, 4.096000000000001, 7.168000000000002, 12.544, 21.951999999999998, 38.41599999999999, 3.2768000000000006, 5.734400000000001, 10.035200000000001, 17.5616, 30.732799999999994, 53.78239999999998, 2.621440000000001, 4.587520000000001, 8.02816, 14.04928, 24.586239999999997, 43.025919999999985, 75.29535999999997, 2.097152000000001, 3.6700160000000013, 6.422528000000001, 11.239424, 19.668992, 34.420736, 60.23628799999998, 105.41350399999996, 1.6777216000000008, 2.936012800000001, 5.138022400000001, 8.9915392, 15.735193599999999, 27.536588799999997, 48.18903039999999, 84.33080319999998, 147.57890559999993, 1.3421772800000007, 2.348810240000001, 4.110417920000001, 7.193231360000001, 12.58815488, 22.029271039999998, 38.551224319999996, 67.46464255999999, 118.06312447999994, 206.6104678399999, 1.0737418240000005, 1.8790481920000008, 3.2883343360000015, 5.754585088000001, 10.070523904000002, 17.623416831999997, 30.840979455999996, 53.971714047999996, 94.45049958399997, 165.28837427199994, 289.2546549759998], \"x\": [1, 1, 2, 2, 2, 3, 3, 3, 3, 4, 4, 4, 4, 4, 5, 5, 5, 5, 5, 5, 6, 6, 6, 6, 6, 6, 6, 7, 7, 7, 7, 7, 7, 7, 7, 8, 8, 8, 8, 8, 8, 8, 8, 8, 9, 9, 9, 9, 9, 9, 9, 9, 9, 9, 10, 10, 10, 10, 10, 10, 10, 10, 10, 10, 10], \"type\": \"scatter\", \"marker\": {\"cmax\": 1, \"size\": 16, \"color\": [0.19999999999999998, 0.8, 0.03999999999999999, 0.32, 0.64, 0.007999999999999997, 0.09599999999999996, 0.38399999999999995, 0.5120000000000001, 0.0015999999999999992, 0.025599999999999994, 0.15360000000000001, 0.4096000000000001, 0.4096000000000001, 0.0003200000000000001, 0.006399999999999998, 0.051199999999999975, 0.20479999999999993, 0.4095999999999999, 0.3276800000000001, 6.399999999999996e-05, 0.0015360000000000011, 0.01536, 0.08192, 0.24575999999999998, 0.3932160000000002, 0.2621440000000001, 1.2799999999999977e-05, 0.00035839999999999977, 0.004300800000000003, 0.028671999999999996, 0.11468800000000001, 0.27525120000000014, 0.3670016000000001, 0.20971520000000007, 2.5599999999999975e-06, 8.191999999999981e-05, 0.0011468799999999996, 0.009175040000000008, 0.045875200000000005, 0.14680064000000004, 0.2936012800000001, 0.3355443200000002, 0.16777216000000006, 5.119999999999998e-07, 1.8431999999999975e-05, 0.0002949119999999992, 0.0027525119999999978, 0.016515071999999992, 0.06606028799999993, 0.17616076799999994, 0.3019898879999997, 0.3019898879999997, 0.13421772800000006, 1.0240000000000004e-07, 4.096000000000007e-06, 7.372799999999991e-05, 0.0007864319999999992, 0.005505024000000001, 0.02642411520000004, 0.08808038400000004, 0.20132659200000014, 0.301989888, 0.26843545600000035, 0.10737418240000005], \"cmin\": 0}, \"name\": \"Evolution\"}, {\"mode\": \"lines+markers\", \"y\": [11.0, 12.4, 14.299999999999999, 16.835199999999997, 20.187199999999997, 24.599131428571418, 30.39607999999999, 38.012646399999994, 48.03015219199998, 61.22689750109089], \"x\": [1, 2, 3, 4, 5, 6, 7, 8, 9, 10], \"type\": \"scatter\", \"line\": {\"shape\": \"spline\"}, \"name\": \"Mean\"}, {\"mode\": \"lines+markers\", \"y\": [14.0, 19.599999999999998, 27.439999999999994, 21.951999999999998, 30.732799999999994, 43.025919999999985, 60.23628799999998, 84.33080319999998, 67.46464255999999, 94.45049958399997], \"x\": [1, 2, 3, 4, 5, 6, 7, 8, 9, 10], \"type\": \"scatter\", \"line\": {\"shape\": \"spline\"}, \"name\": \"Most Probable\"}], {\"orientation\": 0, \"font\": {\"family\": \"Arial, sans-serif;\", \"size\": 12, \"color\": \"#000\"}, \"title\": \"Evolution of Capital Through Binomial Process\", \"autosize\": true, \"annotations\": [{\"showarrow\": false, \"y\": 289.2546549759998, \"x\": 5.0, \"text\": \"Maximum Iterations: 10 | Probability 0.8\"}]}, {\"linkText\": \"Export to plot.ly\", \"showLink\": true})});</script>"
      ],
      "text/plain": [
       "<IPython.core.display.HTML object>"
      ]
     },
     "metadata": {},
     "output_type": "display_data"
    }
   ],
   "source": [
    "# Number of iterations\n",
    "years = 5\n",
    "iterations_per_year = 2\n",
    "n = iterations_per_year * (years)\n",
    "\n",
    "# Arrays of data to plot\n",
    "data_dict = { 'values': [], 'probs': np.array([]), 'iterations': [], 'mean': [], 'most_prob': [], 'uniq_iterations': []}\n",
    "\n",
    "\n",
    "# For each iteration less than the maximun number of iterations\n",
    "i = 1\n",
    "while i <= n:\n",
    "    x_i = linspace(0,i,i+1) # Possible values of success event in \"i\" trials\n",
    "    values = [evolve_with_binomial(P, x, max(x_i)) for x in x_i] # Capital evolution according to Binomial process\n",
    "    probs = stats.binom.pmf(x_i,max(x_i),P_G) # Probabilities of Binomial process\n",
    "    # Set values in dictionary\n",
    "    data_dict['values'] = data_dict['values'] + values\n",
    "    data_dict['mean'].append(np.mean(values))\n",
    "    data_dict['most_prob'].append(values[np.argmax(probs)])\n",
    "    data_dict['uniq_iterations'].append(i)\n",
    "    data_dict['probs'] = np.concatenate((data_dict['probs'], probs), axis=0)\n",
    "    data_dict['iterations'] = data_dict['iterations'] + [i]*len(x_i)\n",
    "    i += 1\n",
    "\n",
    "# Plot data variable. It contains the trace objects\n",
    "fig_data = [\n",
    "                go.Scatter( \n",
    "                        x=data_dict['iterations'], \n",
    "                        y=data_dict['values'], \n",
    "                        mode='markers',\n",
    "                        name=\"Evolution\",\n",
    "                        marker=dict(\n",
    "                            cmin = 0,\n",
    "                            cmax = 1,\n",
    "                            color = data_dict['probs'],\n",
    "                            size = 16\n",
    "                        )\n",
    "                ),\n",
    "                go.Scatter( \n",
    "                        x=data_dict['uniq_iterations'], \n",
    "                        y=data_dict['mean'], \n",
    "                        mode='lines+markers', \n",
    "                        name=\"Mean\",\n",
    "                        line=dict(\n",
    "                            shape='spline'\n",
    "                        )\n",
    "                ),\n",
    "                go.Scatter( \n",
    "                        x=data_dict['uniq_iterations'], \n",
    "                        y=data_dict['most_prob'], \n",
    "                        mode='lines+markers', \n",
    "                        name=\"Most Probable\",\n",
    "                        line=dict(\n",
    "                            shape='spline'\n",
    "                        )\n",
    "                )\n",
    "            ]\n",
    "\n",
    "# Set layout for figure\n",
    "layout = go.Layout(\n",
    "    title='Evolution of Capital Through Binomial Process',\n",
    "    font=dict(\n",
    "        family='Arial, sans-serif;',\n",
    "        size=12,\n",
    "        color='#000'\n",
    "    ),\n",
    "    orientation=0,\n",
    "    autosize=True,\n",
    "    annotations=[\n",
    "        dict(\n",
    "            x=n/2,\n",
    "            y=max(data_dict['values']),\n",
    "            text='Maximum Iterations: {0} | Probability {1}'.format(n, P_G),\n",
    "            showarrow=False\n",
    "        )\n",
    "    ]\n",
    ")\n",
    "\n",
    "# Plot figure\n",
    "iplot({\"data\": fig_data, \"layout\": layout})"
   ]
  }
 ],
 "metadata": {
  "anaconda-cloud": {},
  "kernelspec": {
   "display_name": "Python [Root]",
   "language": "python",
   "name": "Python [Root]"
  },
  "language_info": {
   "codemirror_mode": {
    "name": "ipython",
    "version": 3
   },
   "file_extension": ".py",
   "mimetype": "text/x-python",
   "name": "python",
   "nbconvert_exporter": "python",
   "pygments_lexer": "ipython3",
   "version": "3.5.2"
  }
 },
 "nbformat": 4,
 "nbformat_minor": 0
}
